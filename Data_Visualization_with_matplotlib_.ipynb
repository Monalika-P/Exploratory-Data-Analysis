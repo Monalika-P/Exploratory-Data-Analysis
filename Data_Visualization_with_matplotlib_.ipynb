{
  "nbformat": 4,
  "nbformat_minor": 0,
  "metadata": {
    "colab": {
      "name": "Data Visualization with matplotlib .ipynb",
      "provenance": [],
      "authorship_tag": "ABX9TyNCwIuPDabvmqzAocoa+GKm",
      "include_colab_link": true
    },
    "kernelspec": {
      "name": "python3",
      "display_name": "Python 3"
    },
    "accelerator": "TPU"
  },
  "cells": [
    {
      "cell_type": "markdown",
      "metadata": {
        "id": "view-in-github",
        "colab_type": "text"
      },
      "source": [
        "<a href=\"https://colab.research.google.com/github/Monalika-P/Exploratory-Data-Analysis/blob/main/Data_Visualization_with_matplotlib_.ipynb\" target=\"_parent\"><img src=\"https://colab.research.google.com/assets/colab-badge.svg\" alt=\"Open In Colab\"/></a>"
      ]
    },
    {
      "cell_type": "markdown",
      "metadata": {
        "id": "CVM_leKpYxSf"
      },
      "source": [
        "### Author - Monalika P"
      ]
    },
    {
      "cell_type": "markdown",
      "metadata": {
        "id": "Ai7t2LTgbV38"
      },
      "source": [
        "### Importing the libraries"
      ]
    },
    {
      "cell_type": "code",
      "metadata": {
        "id": "68SX5pmwXW6S"
      },
      "source": [
        "import numpy as np\n",
        "import pandas as pd\n",
        "import matplotlib.pyplot as plt"
      ],
      "execution_count": 1,
      "outputs": []
    },
    {
      "cell_type": "markdown",
      "metadata": {
        "id": "7nRY4xUObkB3"
      },
      "source": [
        "### Loading the dataset"
      ]
    },
    {
      "cell_type": "code",
      "metadata": {
        "id": "JGuDyF90Y0qu"
      },
      "source": [
        "stock_df = pd.read_csv('/content/stocks.csv')"
      ],
      "execution_count": 2,
      "outputs": []
    },
    {
      "cell_type": "code",
      "metadata": {
        "id": "bXajnJfueR9f",
        "outputId": "f9f53adc-5c1f-4709-ed98-559eea9f2fae",
        "colab": {
          "base_uri": "https://localhost:8080/",
          "height": 299
        }
      },
      "source": [
        "stock_df.head()"
      ],
      "execution_count": 3,
      "outputs": [
        {
          "output_type": "execute_result",
          "data": {
            "text/html": [
              "<div>\n",
              "<style scoped>\n",
              "    .dataframe tbody tr th:only-of-type {\n",
              "        vertical-align: middle;\n",
              "    }\n",
              "\n",
              "    .dataframe tbody tr th {\n",
              "        vertical-align: top;\n",
              "    }\n",
              "\n",
              "    .dataframe thead th {\n",
              "        text-align: right;\n",
              "    }\n",
              "</style>\n",
              "<table border=\"1\" class=\"dataframe\">\n",
              "  <thead>\n",
              "    <tr style=\"text-align: right;\">\n",
              "      <th></th>\n",
              "      <th>Date</th>\n",
              "      <th>AAPL</th>\n",
              "      <th>BA</th>\n",
              "      <th>T</th>\n",
              "      <th>MGM</th>\n",
              "      <th>AMZN</th>\n",
              "      <th>IBM</th>\n",
              "      <th>TSLA</th>\n",
              "      <th>GOOG</th>\n",
              "      <th>sp500</th>\n",
              "    </tr>\n",
              "  </thead>\n",
              "  <tbody>\n",
              "    <tr>\n",
              "      <th>0</th>\n",
              "      <td>2012-01-12</td>\n",
              "      <td>60.198570</td>\n",
              "      <td>75.510002</td>\n",
              "      <td>30.120001</td>\n",
              "      <td>12.13</td>\n",
              "      <td>175.929993</td>\n",
              "      <td>180.550003</td>\n",
              "      <td>28.250000</td>\n",
              "      <td>313.644379</td>\n",
              "      <td>1295.500000</td>\n",
              "    </tr>\n",
              "    <tr>\n",
              "      <th>1</th>\n",
              "      <td>2012-01-13</td>\n",
              "      <td>59.972858</td>\n",
              "      <td>74.599998</td>\n",
              "      <td>30.070000</td>\n",
              "      <td>12.35</td>\n",
              "      <td>178.419998</td>\n",
              "      <td>179.160004</td>\n",
              "      <td>22.790001</td>\n",
              "      <td>311.328064</td>\n",
              "      <td>1289.089966</td>\n",
              "    </tr>\n",
              "    <tr>\n",
              "      <th>2</th>\n",
              "      <td>2012-01-17</td>\n",
              "      <td>60.671429</td>\n",
              "      <td>75.239998</td>\n",
              "      <td>30.250000</td>\n",
              "      <td>12.25</td>\n",
              "      <td>181.660004</td>\n",
              "      <td>180.000000</td>\n",
              "      <td>26.600000</td>\n",
              "      <td>313.116364</td>\n",
              "      <td>1293.670044</td>\n",
              "    </tr>\n",
              "    <tr>\n",
              "      <th>3</th>\n",
              "      <td>2012-01-18</td>\n",
              "      <td>61.301430</td>\n",
              "      <td>75.059998</td>\n",
              "      <td>30.330000</td>\n",
              "      <td>12.73</td>\n",
              "      <td>189.440002</td>\n",
              "      <td>181.070007</td>\n",
              "      <td>26.809999</td>\n",
              "      <td>315.273285</td>\n",
              "      <td>1308.040039</td>\n",
              "    </tr>\n",
              "    <tr>\n",
              "      <th>4</th>\n",
              "      <td>2012-01-19</td>\n",
              "      <td>61.107143</td>\n",
              "      <td>75.559998</td>\n",
              "      <td>30.420000</td>\n",
              "      <td>12.80</td>\n",
              "      <td>194.449997</td>\n",
              "      <td>180.520004</td>\n",
              "      <td>26.760000</td>\n",
              "      <td>318.590851</td>\n",
              "      <td>1314.500000</td>\n",
              "    </tr>\n",
              "  </tbody>\n",
              "</table>\n",
              "</div>"
            ],
            "text/plain": [
              "         Date       AAPL         BA  ...       TSLA        GOOG        sp500\n",
              "0  2012-01-12  60.198570  75.510002  ...  28.250000  313.644379  1295.500000\n",
              "1  2012-01-13  59.972858  74.599998  ...  22.790001  311.328064  1289.089966\n",
              "2  2012-01-17  60.671429  75.239998  ...  26.600000  313.116364  1293.670044\n",
              "3  2012-01-18  61.301430  75.059998  ...  26.809999  315.273285  1308.040039\n",
              "4  2012-01-19  61.107143  75.559998  ...  26.760000  318.590851  1314.500000\n",
              "\n",
              "[5 rows x 10 columns]"
            ]
          },
          "metadata": {
            "tags": []
          },
          "execution_count": 3
        }
      ]
    },
    {
      "cell_type": "markdown",
      "metadata": {
        "id": "KLWBWksveWiA"
      },
      "source": [
        "### Basic Plot"
      ]
    },
    {
      "cell_type": "code",
      "metadata": {
        "id": "nGh9xQSpeU0g",
        "outputId": "4cd3f599-4e1f-4e7a-e91f-c7e606e14871",
        "colab": {
          "base_uri": "https://localhost:8080/",
          "height": 297
        }
      },
      "source": [
        "stock_df.plot(x = 'Date' , y ='AAPL', label = 'Apple Stock Prices' , linewidth = 3)\n",
        "plt.ylabel('Price')\n",
        "plt.xlabel('Date')\n",
        "plt.legend( loc = 'upper left') "
      ],
      "execution_count": 11,
      "outputs": [
        {
          "output_type": "execute_result",
          "data": {
            "text/plain": [
              "<matplotlib.legend.Legend at 0x7f6046206710>"
            ]
          },
          "metadata": {
            "tags": []
          },
          "execution_count": 11
        },
        {
          "output_type": "display_data",
          "data": {
            "image/png": "[encoded data removed]",
            "text/plain": [
              "<Figure size 432x288 with 1 Axes>"
            ]
          },
          "metadata": {
            "tags": [],
            "needs_background": "light"
          }
        }
      ]
    },
    {
      "cell_type": "code",
      "metadata": {
        "id": "UZ_9EURCeuVs",
        "outputId": "9eb99a58-842c-4db9-f3e9-e9afc0973907",
        "colab": {
          "base_uri": "https://localhost:8080/",
          "height": 297
        }
      },
      "source": [
        "stock_df.plot(x = 'Date' , y ='MGM', label = 'MGM Stock Prices' , color = 'g', linewidth = 3)\n",
        "plt.ylabel('Price')\n",
        "plt.xlabel('Date')\n",
        "plt.legend( loc = 'upper left') "
      ],
      "execution_count": 14,
      "outputs": [
        {
          "output_type": "execute_result",
          "data": {
            "text/plain": [
              "<matplotlib.legend.Legend at 0x7f6045fefac8>"
            ]
          },
          "metadata": {
            "tags": []
          },
          "execution_count": 14
        },
        {
          "output_type": "display_data",
          "data": {
            "image/png": "[encoded data removed]",
            "text/plain": [
              "<Figure size 432x288 with 1 Axes>"
            ]
          },
          "metadata": {
            "tags": [],
            "needs_background": "light"
          }
        }
      ]
    },
    {
      "cell_type": "markdown",
      "metadata": {
        "id": "V8lzl7RrhLfa"
      },
      "source": [
        "### Scatter Plot"
      ]
    },
    {
      "cell_type": "code",
      "metadata": {
        "id": "nsIyWYFNg-3V"
      },
      "source": [
        "daily_returns_df = pd.read_csv('/content/daily_returns.csv')"
      ],
      "execution_count": 15,
      "outputs": []
    },
    {
      "cell_type": "code",
      "metadata": {
        "id": "tuIxkarUhYu0",
        "outputId": "2c38214c-2011-48f4-be21-77c0069f8c2d",
        "colab": {
          "base_uri": "https://localhost:8080/",
          "height": 343
        }
      },
      "source": [
        "daily_returns_df.head(10)"
      ],
      "execution_count": 16,
      "outputs": [
        {
          "output_type": "execute_result",
          "data": {
            "text/html": [
              "<div>\n",
              "<style scoped>\n",
              "    .dataframe tbody tr th:only-of-type {\n",
              "        vertical-align: middle;\n",
              "    }\n",
              "\n",
              "    .dataframe tbody tr th {\n",
              "        vertical-align: top;\n",
              "    }\n",
              "\n",
              "    .dataframe thead th {\n",
              "        text-align: right;\n",
              "    }\n",
              "</style>\n",
              "<table border=\"1\" class=\"dataframe\">\n",
              "  <thead>\n",
              "    <tr style=\"text-align: right;\">\n",
              "      <th></th>\n",
              "      <th>AAPL</th>\n",
              "      <th>sp500</th>\n",
              "      <th>GOOG</th>\n",
              "    </tr>\n",
              "  </thead>\n",
              "  <tbody>\n",
              "    <tr>\n",
              "      <th>0</th>\n",
              "      <td>0.000000</td>\n",
              "      <td>0.000000</td>\n",
              "      <td>0.000000</td>\n",
              "    </tr>\n",
              "    <tr>\n",
              "      <th>1</th>\n",
              "      <td>-0.374946</td>\n",
              "      <td>-0.494792</td>\n",
              "      <td>-0.738516</td>\n",
              "    </tr>\n",
              "    <tr>\n",
              "      <th>2</th>\n",
              "      <td>1.164812</td>\n",
              "      <td>0.355295</td>\n",
              "      <td>0.574410</td>\n",
              "    </tr>\n",
              "    <tr>\n",
              "      <th>3</th>\n",
              "      <td>1.038382</td>\n",
              "      <td>1.110793</td>\n",
              "      <td>0.688856</td>\n",
              "    </tr>\n",
              "    <tr>\n",
              "      <th>4</th>\n",
              "      <td>-0.316937</td>\n",
              "      <td>0.493866</td>\n",
              "      <td>1.052283</td>\n",
              "    </tr>\n",
              "    <tr>\n",
              "      <th>5</th>\n",
              "      <td>-1.741670</td>\n",
              "      <td>0.066946</td>\n",
              "      <td>-8.377507</td>\n",
              "    </tr>\n",
              "    <tr>\n",
              "      <th>6</th>\n",
              "      <td>1.691647</td>\n",
              "      <td>0.047134</td>\n",
              "      <td>-0.080209</td>\n",
              "    </tr>\n",
              "    <tr>\n",
              "      <th>7</th>\n",
              "      <td>-1.637772</td>\n",
              "      <td>-0.102582</td>\n",
              "      <td>-0.783911</td>\n",
              "    </tr>\n",
              "    <tr>\n",
              "      <th>8</th>\n",
              "      <td>6.243905</td>\n",
              "      <td>0.867914</td>\n",
              "      <td>-1.969256</td>\n",
              "    </tr>\n",
              "    <tr>\n",
              "      <th>9</th>\n",
              "      <td>-0.454486</td>\n",
              "      <td>-0.575389</td>\n",
              "      <td>-0.244081</td>\n",
              "    </tr>\n",
              "  </tbody>\n",
              "</table>\n",
              "</div>"
            ],
            "text/plain": [
              "       AAPL     sp500      GOOG\n",
              "0  0.000000  0.000000  0.000000\n",
              "1 -0.374946 -0.494792 -0.738516\n",
              "2  1.164812  0.355295  0.574410\n",
              "3  1.038382  1.110793  0.688856\n",
              "4 -0.316937  0.493866  1.052283\n",
              "5 -1.741670  0.066946 -8.377507\n",
              "6  1.691647  0.047134 -0.080209\n",
              "7 -1.637772 -0.102582 -0.783911\n",
              "8  6.243905  0.867914 -1.969256\n",
              "9 -0.454486 -0.575389 -0.244081"
            ]
          },
          "metadata": {
            "tags": []
          },
          "execution_count": 16
        }
      ]
    },
    {
      "cell_type": "code",
      "metadata": {
        "id": "ynjuv3m4iLVs",
        "outputId": "7a3eb7fe-74ac-4b8d-a593-8b7d4e5205e0",
        "colab": {
          "base_uri": "https://localhost:8080/",
          "height": 313
        }
      },
      "source": [
        "plt.scatter(daily_returns_df['GOOG'], daily_returns_df['sp500'], color = 'b', label = 'Scatter')\n",
        "plt.xlabel('Google Daily Returns')\n",
        "plt.ylabel('SP500 Daily Returns')\n",
        "plt.title('SP500 Vs Google')\n",
        "plt.legend(loc = 'upper right')"
      ],
      "execution_count": 20,
      "outputs": [
        {
          "output_type": "execute_result",
          "data": {
            "text/plain": [
              "<matplotlib.legend.Legend at 0x7f6045fc43c8>"
            ]
          },
          "metadata": {
            "tags": []
          },
          "execution_count": 20
        },
        {
          "output_type": "display_data",
          "data": {
            "image/png": "[encoded data removed]",
            "text/plain": [
              "<Figure size 432x288 with 1 Axes>"
            ]
          },
          "metadata": {
            "tags": [],
            "needs_background": "light"
          }
        }
      ]
    },
    {
      "cell_type": "markdown",
      "metadata": {
        "id": "sG2EKGLDmpzr"
      },
      "source": [
        "### Pie Chart"
      ]
    },
    {
      "cell_type": "code",
      "metadata": {
        "id": "Uhp2n14kml-8"
      },
      "source": [
        "values = [10, 65, 17, 30, 4]\n",
        "colors = ['r', 'g', 'b', 'y', 'm']\n",
        "labels = ['Apple', 'Google', 'IBM', 'Tesla', 'T']"
      ],
      "execution_count": 18,
      "outputs": []
    },
    {
      "cell_type": "code",
      "metadata": {
        "id": "5hYumxMkmusO",
        "outputId": "bc26a12d-3e00-4fb7-ea96-90c10882e177",
        "colab": {
          "base_uri": "https://localhost:8080/",
          "height": 479
        }
      },
      "source": [
        "plt.figure(figsize = (5,5))\n",
        "plt.pie(values, labels = labels, colors = colors)"
      ],
      "execution_count": 19,
      "outputs": [
        {
          "output_type": "execute_result",
          "data": {
            "text/plain": [
              "([<matplotlib.patches.Wedge at 0x7f604610b198>,\n",
              "  <matplotlib.patches.Wedge at 0x7f60461a7c50>,\n",
              "  <matplotlib.patches.Wedge at 0x7f60461a7f98>,\n",
              "  <matplotlib.patches.Wedge at 0x7f604619c1d0>,\n",
              "  <matplotlib.patches.Wedge at 0x7f60460969e8>],\n",
              " [Text(1.0659850125325083, 0.27143314656848394, 'Apple'),\n",
              "  Text(-0.5735787369691855, 0.9386199616974029, 'Google'),\n",
              "  Text(-0.5735786930292136, -0.9386199885485602, 'IBM'),\n",
              "  Text(0.6421180898963519, -0.8931317700249279, 'Tesla'),\n",
              "  Text(1.0945338599620371, -0.10952456070034579, 'T')])"
            ]
          },
          "metadata": {
            "tags": []
          },
          "execution_count": 19
        },
        {
          "output_type": "display_data",
          "data": {
            "image/png": "[encoded data removed]",
            "text/plain": [
              "<Figure size 360x360 with 1 Axes>"
            ]
          },
          "metadata": {
            "tags": []
          }
        }
      ]
    },
    {
      "cell_type": "code",
      "metadata": {
        "id": "Wy5G6Jaxmyo7"
      },
      "source": [
        "explode = [0, 0.15, 0, 0, 0.0]"
      ],
      "execution_count": 32,
      "outputs": []
    },
    {
      "cell_type": "code",
      "metadata": {
        "id": "m_Hn2AnInBXg",
        "outputId": "ecc43fbb-3cad-4377-8bc5-8ed0142782a5",
        "colab": {
          "base_uri": "https://localhost:8080/",
          "height": 337
        }
      },
      "source": [
        "plt.figure(figsize = (5,5))\n",
        "plt.pie(values, labels = labels, colors = colors, explode = explode)\n",
        "plt.title('Pie Chart')"
      ],
      "execution_count": 31,
      "outputs": [
        {
          "output_type": "execute_result",
          "data": {
            "text/plain": [
              "Text(0.5, 1.0, 'Pie Chart')"
            ]
          },
          "metadata": {
            "tags": []
          },
          "execution_count": 31
        },
        {
          "output_type": "display_data",
          "data": {
            "image/png": "[encoded data removed]",
            "text/plain": [
              "<Figure size 360x360 with 1 Axes>"
            ]
          },
          "metadata": {
            "tags": []
          }
        }
      ]
    },
    {
      "cell_type": "markdown",
      "metadata": {
        "id": "wV63pw3XonEA"
      },
      "source": [
        "#### Equal Allocation"
      ]
    },
    {
      "cell_type": "code",
      "metadata": {
        "id": "VET9-q27nIX7"
      },
      "source": [
        "values1 = [20, 20, 20, 20, 20]\n",
        "explode = [0.1, 0.15, 0.25, 0, 0.0]"
      ],
      "execution_count": 38,
      "outputs": []
    },
    {
      "cell_type": "code",
      "metadata": {
        "id": "0CgHV0L9o2jh",
        "outputId": "33d0b688-ce51-4887-ebc4-edae030fb9ab",
        "colab": {
          "base_uri": "https://localhost:8080/",
          "height": 337
        }
      },
      "source": [
        "plt.figure(figsize = (5,5))\n",
        "plt.pie(values1, labels = labels, colors = colors, explode = explode)\n",
        "plt.title('Pie Chart')"
      ],
      "execution_count": 39,
      "outputs": [
        {
          "output_type": "execute_result",
          "data": {
            "text/plain": [
              "Text(0.5, 1.0, 'Pie Chart')"
            ]
          },
          "metadata": {
            "tags": []
          },
          "execution_count": 39
        },
        {
          "output_type": "display_data",
          "data": {
            "image/png": "[encoded data removed]",
            "text/plain": [
              "<Figure size 360x360 with 1 Axes>"
            ]
          },
          "metadata": {
            "tags": []
          }
        }
      ]
    },
    {
      "cell_type": "markdown",
      "metadata": {
        "id": "eyDkgLfApSke"
      },
      "source": [
        "### Histograms"
      ]
    },
    {
      "cell_type": "code",
      "metadata": {
        "id": "9IpgTmL4o94h",
        "outputId": "cd5982b0-61d5-4a47-e9a3-7ee386a3f745",
        "colab": {
          "base_uri": "https://localhost:8080/",
          "height": 402
        }
      },
      "source": [
        "daily_returns_df"
      ],
      "execution_count": 40,
      "outputs": [
        {
          "output_type": "execute_result",
          "data": {
            "text/html": [
              "<div>\n",
              "<style scoped>\n",
              "    .dataframe tbody tr th:only-of-type {\n",
              "        vertical-align: middle;\n",
              "    }\n",
              "\n",
              "    .dataframe tbody tr th {\n",
              "        vertical-align: top;\n",
              "    }\n",
              "\n",
              "    .dataframe thead th {\n",
              "        text-align: right;\n",
              "    }\n",
              "</style>\n",
              "<table border=\"1\" class=\"dataframe\">\n",
              "  <thead>\n",
              "    <tr style=\"text-align: right;\">\n",
              "      <th></th>\n",
              "      <th>AAPL</th>\n",
              "      <th>sp500</th>\n",
              "      <th>GOOG</th>\n",
              "    </tr>\n",
              "  </thead>\n",
              "  <tbody>\n",
              "    <tr>\n",
              "      <th>0</th>\n",
              "      <td>0.000000</td>\n",
              "      <td>0.000000</td>\n",
              "      <td>0.000000</td>\n",
              "    </tr>\n",
              "    <tr>\n",
              "      <th>1</th>\n",
              "      <td>-0.374946</td>\n",
              "      <td>-0.494792</td>\n",
              "      <td>-0.738516</td>\n",
              "    </tr>\n",
              "    <tr>\n",
              "      <th>2</th>\n",
              "      <td>1.164812</td>\n",
              "      <td>0.355295</td>\n",
              "      <td>0.574410</td>\n",
              "    </tr>\n",
              "    <tr>\n",
              "      <th>3</th>\n",
              "      <td>1.038382</td>\n",
              "      <td>1.110793</td>\n",
              "      <td>0.688856</td>\n",
              "    </tr>\n",
              "    <tr>\n",
              "      <th>4</th>\n",
              "      <td>-0.316937</td>\n",
              "      <td>0.493866</td>\n",
              "      <td>1.052283</td>\n",
              "    </tr>\n",
              "    <tr>\n",
              "      <th>...</th>\n",
              "      <td>...</td>\n",
              "      <td>...</td>\n",
              "      <td>...</td>\n",
              "    </tr>\n",
              "    <tr>\n",
              "      <th>2154</th>\n",
              "      <td>0.362467</td>\n",
              "      <td>0.642974</td>\n",
              "      <td>0.589774</td>\n",
              "    </tr>\n",
              "    <tr>\n",
              "      <th>2155</th>\n",
              "      <td>3.488923</td>\n",
              "      <td>0.642770</td>\n",
              "      <td>1.797626</td>\n",
              "    </tr>\n",
              "    <tr>\n",
              "      <th>2156</th>\n",
              "      <td>-2.449458</td>\n",
              "      <td>0.063303</td>\n",
              "      <td>-0.373974</td>\n",
              "    </tr>\n",
              "    <tr>\n",
              "      <th>2157</th>\n",
              "      <td>1.453480</td>\n",
              "      <td>0.274222</td>\n",
              "      <td>0.107728</td>\n",
              "    </tr>\n",
              "    <tr>\n",
              "      <th>2158</th>\n",
              "      <td>-2.973987</td>\n",
              "      <td>-0.796913</td>\n",
              "      <td>-1.054744</td>\n",
              "    </tr>\n",
              "  </tbody>\n",
              "</table>\n",
              "<p>2159 rows × 3 columns</p>\n",
              "</div>"
            ],
            "text/plain": [
              "          AAPL     sp500      GOOG\n",
              "0     0.000000  0.000000  0.000000\n",
              "1    -0.374946 -0.494792 -0.738516\n",
              "2     1.164812  0.355295  0.574410\n",
              "3     1.038382  1.110793  0.688856\n",
              "4    -0.316937  0.493866  1.052283\n",
              "...        ...       ...       ...\n",
              "2154  0.362467  0.642974  0.589774\n",
              "2155  3.488923  0.642770  1.797626\n",
              "2156 -2.449458  0.063303 -0.373974\n",
              "2157  1.453480  0.274222  0.107728\n",
              "2158 -2.973987 -0.796913 -1.054744\n",
              "\n",
              "[2159 rows x 3 columns]"
            ]
          },
          "metadata": {
            "tags": []
          },
          "execution_count": 40
        }
      ]
    },
    {
      "cell_type": "code",
      "metadata": {
        "id": "c23UkDKspdZA",
        "outputId": "c50b84eb-ed3d-4e7e-873d-67798d68b1b3",
        "colab": {
          "base_uri": "https://localhost:8080/",
          "height": 710
        }
      },
      "source": [
        "plt.figure(figsize = (7,7))\n",
        "plt.hist(daily_returns_df['AAPL'], bins = 40)"
      ],
      "execution_count": 46,
      "outputs": [
        {
          "output_type": "execute_result",
          "data": {
            "text/plain": [
              "(array([  2.,   0.,   0.,   0.,   2.,   0.,   0.,   2.,   0.,   0.,   7.,\n",
              "          3.,   5.,  14.,  13.,  29.,  66.,  86., 155., 311., 457., 372.,\n",
              "        274., 174.,  81.,  41.,  23.,  13.,   9.,   4.,   4.,   2.,   3.,\n",
              "          1.,   2.,   1.,   1.,   1.,   0.,   1.]),\n",
              " array([-12.86469542, -12.24355738, -11.62241933, -11.00128128,\n",
              "        -10.38014324,  -9.75900519,  -9.13786714,  -8.5167291 ,\n",
              "         -7.89559105,  -7.274453  ,  -6.65331496,  -6.03217691,\n",
              "         -5.41103886,  -4.78990082,  -4.16876277,  -3.54762472,\n",
              "         -2.92648668,  -2.30534863,  -1.68421058,  -1.06307254,\n",
              "         -0.44193449,   0.17920356,   0.8003416 ,   1.42147965,\n",
              "          2.0426177 ,   2.66375574,   3.28489379,   3.90603184,\n",
              "          4.52716988,   5.14830793,   5.76944598,   6.39058402,\n",
              "          7.01172207,   7.63286012,   8.25399816,   8.87513621,\n",
              "          9.49627426,  10.1174123 ,  10.73855035,  11.3596884 ,\n",
              "         11.98082644]),\n",
              " <a list of 40 Patch objects>)"
            ]
          },
          "metadata": {
            "tags": []
          },
          "execution_count": 46
        },
        {
          "output_type": "display_data",
          "data": {
            "image/png": "[encoded data removed]",
            "text/plain": [
              "<Figure size 504x504 with 1 Axes>"
            ]
          },
          "metadata": {
            "tags": [],
            "needs_background": "light"
          }
        }
      ]
    },
    {
      "cell_type": "markdown",
      "metadata": {
        "id": "oI9Dw9XBsByG"
      },
      "source": [
        "#### Adding grids"
      ]
    },
    {
      "cell_type": "code",
      "metadata": {
        "id": "_cS6M92Fs2xG",
        "outputId": "0dfe1752-a066-421c-b5e6-34955e4eae03",
        "colab": {
          "base_uri": "https://localhost:8080/",
          "height": 462
        }
      },
      "source": [
        "plt.figure(figsize = (7,7))\n",
        "plt.hist(daily_returns_df['sp500'], bins = 40, color = 'm')\n",
        "plt.grid()\n",
        "plt.title('sp500 Dialy Returns Distribution')"
      ],
      "execution_count": 51,
      "outputs": [
        {
          "output_type": "execute_result",
          "data": {
            "text/plain": [
              "Text(0.5, 1.0, 'sp500 Dialy Returns Distribution')"
            ]
          },
          "metadata": {
            "tags": []
          },
          "execution_count": 51
        },
        {
          "output_type": "display_data",
          "data": {
            "image/png": "[encoded data removed]",
            "text/plain": [
              "<Figure size 504x504 with 1 Axes>"
            ]
          },
          "metadata": {
            "tags": [],
            "needs_background": "light"
          }
        }
      ]
    },
    {
      "cell_type": "markdown",
      "metadata": {
        "id": "CCXvYLk_twVW"
      },
      "source": [
        "#### Displaying variables in title"
      ]
    },
    {
      "cell_type": "code",
      "metadata": {
        "id": "dicdiIFcthSU"
      },
      "source": [
        "mean = daily_returns_df['GOOG'].mean()\n",
        "std = daily_returns_df['GOOG'].std()"
      ],
      "execution_count": 50,
      "outputs": []
    },
    {
      "cell_type": "code",
      "metadata": {
        "id": "ketit4G-uNd8",
        "outputId": "e10c388c-377d-4f91-c826-735af16af8a1",
        "colab": {
          "base_uri": "https://localhost:8080/",
          "height": 420
        }
      },
      "source": [
        "plt.figure(figsize = (7,7))\n",
        "plt.hist(daily_returns_df['GOOG'], bins = 100, color = 'r')\n",
        "plt.grid()\n",
        "plt.title('GOOGLE Dialy Returns Distribution with mean = '+ str(mean) + 'and standard deviations '+ str(std))"
      ],
      "execution_count": 56,
      "outputs": [
        {
          "output_type": "execute_result",
          "data": {
            "text/plain": [
              "Text(0.5, 1.0, 'GOOGLE Dialy Returns Distribution with mean = 0.08439182335261494and standard deviations 1.5855578722362975')"
            ]
          },
          "metadata": {
            "tags": []
          },
          "execution_count": 56
        },
        {
          "output_type": "display_data",
          "data": {
            "image/png": "[encoded data removed]",
            "text/plain": [
              "<Figure size 504x504 with 1 Axes>"
            ]
          },
          "metadata": {
            "tags": [],
            "needs_background": "light"
          }
        }
      ]
    },
    {
      "cell_type": "code",
      "metadata": {
        "id": "L-n5KHNwupFe"
      },
      "source": [
        ""
      ],
      "execution_count": null,
      "outputs": []
    }
  ]
}