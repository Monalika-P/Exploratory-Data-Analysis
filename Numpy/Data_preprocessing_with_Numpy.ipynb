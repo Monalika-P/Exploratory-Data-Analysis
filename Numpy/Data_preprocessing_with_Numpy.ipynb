{
  "nbformat": 4,
  "nbformat_minor": 0,
  "metadata": {
    "colab": {
      "name": "Data preprocessing with Numpy.ipynb",
      "provenance": [],
      "toc_visible": true,
      "authorship_tag": "ABX9TyOe32CnprYfjqydUhASgInW",
      "include_colab_link": true
    },
    "kernelspec": {
      "name": "python3",
      "display_name": "Python 3"
    },
    "accelerator": "TPU"
  },
  "cells": [
    {
      "cell_type": "markdown",
      "metadata": {
        "id": "view-in-github",
        "colab_type": "text"
      },
      "source": [
        "<a href=\"https://colab.research.google.com/github/Monalika-P/Exploratory-Data-Analysis/blob/main/Numpy/Data_preprocessing_with_Numpy.ipynb\" target=\"_parent\"><img src=\"https://colab.research.google.com/assets/colab-badge.svg\" alt=\"Open In Colab\"/></a>"
      ]
    },
    {
      "cell_type": "markdown",
      "metadata": {
        "id": "0NPyMVqW5GRV"
      },
      "source": [
        "### Author - Monalika P"
      ]
    },
    {
      "cell_type": "markdown",
      "metadata": {
        "id": "jq6mgdBlANFz"
      },
      "source": [
        "## About numpy"
      ]
    },
    {
      "cell_type": "markdown",
      "metadata": {
        "id": "udDK0K8z_3UV"
      },
      "source": [
        "**NumPy** is a python library used for working with arrays.\n",
        "\n",
        "It also has functions for working in domain of linear algebra, fourier transform, and matrices.\n",
        "\n",
        "NumPy was created in 2005 by Travis Oliphant. It is an open source project and you can use it freely.\n",
        "\n",
        "NumPy stands for Numerical Python."
      ]
    },
    {
      "cell_type": "markdown",
      "metadata": {
        "id": "-767z1TF5zl1"
      },
      "source": [
        "\n",
        "### Importing the numpy library"
      ]
    },
    {
      "cell_type": "code",
      "metadata": {
        "id": "Hc_jVpVP3wO_"
      },
      "source": [
        "import numpy as np"
      ],
      "execution_count": null,
      "outputs": []
    },
    {
      "cell_type": "markdown",
      "metadata": {
        "id": "KUxBaGUC53mO"
      },
      "source": [
        "### Creating a list"
      ]
    },
    {
      "cell_type": "code",
      "metadata": {
        "id": "FFl6Ia8V5QF_",
        "outputId": "29de8d67-4fd6-4ad6-98b7-aa6a74d6822d",
        "colab": {
          "base_uri": "https://localhost:8080/",
          "height": 52
        }
      },
      "source": [
        "my_list = [10, 20, 30, 40, 50]\n",
        "print(my_list)\n",
        "print(type(my_list))"
      ],
      "execution_count": null,
      "outputs": [
        {
          "output_type": "stream",
          "text": [
            "[10, 20, 30, 40, 50]\n",
            "<class 'list'>\n"
          ],
          "name": "stdout"
        }
      ]
    },
    {
      "cell_type": "code",
      "metadata": {
        "id": "UxjXA9Zw5Tpq",
        "outputId": "e0b0e3e4-771f-4573-902a-da38494f8c1a",
        "colab": {
          "base_uri": "https://localhost:8080/",
          "height": 52
        }
      },
      "source": [
        "x = np.array(my_list)\n",
        "print(x)\n",
        "print(type(x))"
      ],
      "execution_count": null,
      "outputs": [
        {
          "output_type": "stream",
          "text": [
            "[10 20 30 40 50]\n",
            "<class 'numpy.ndarray'>\n"
          ],
          "name": "stdout"
        }
      ]
    },
    {
      "cell_type": "code",
      "metadata": {
        "id": "5EjkYUtP5YwT"
      },
      "source": [
        "matrix  = np.array([[1,2,3,4], [5,6,7,8]]) #2x4 Matrix"
      ],
      "execution_count": null,
      "outputs": []
    },
    {
      "cell_type": "code",
      "metadata": {
        "id": "ozlsuhY15d7V",
        "outputId": "07cfa53a-ce8e-4ff5-c7bc-4cb941ff9ce8",
        "colab": {
          "base_uri": "https://localhost:8080/",
          "height": 52
        }
      },
      "source": [
        "matrix"
      ],
      "execution_count": null,
      "outputs": [
        {
          "output_type": "execute_result",
          "data": {
            "text/plain": [
              "array([[1, 2, 3, 4],\n",
              "       [5, 6, 7, 8]])"
            ]
          },
          "metadata": {
            "tags": []
          },
          "execution_count": 5
        }
      ]
    },
    {
      "cell_type": "code",
      "metadata": {
        "id": "FQNxTv4m8EVh",
        "outputId": "08c9a36b-cc8e-4717-e2b6-788d202eacf6",
        "colab": {
          "base_uri": "https://localhost:8080/",
          "height": 34
        }
      },
      "source": [
        "type(matrix)"
      ],
      "execution_count": null,
      "outputs": [
        {
          "output_type": "execute_result",
          "data": {
            "text/plain": [
              "numpy.ndarray"
            ]
          },
          "metadata": {
            "tags": []
          },
          "execution_count": 6
        }
      ]
    },
    {
      "cell_type": "markdown",
      "metadata": {
        "id": "qobcNt7sDCRB"
      },
      "source": [
        "### Random function"
      ]
    },
    {
      "cell_type": "code",
      "metadata": {
        "id": "m6VaIGSM8GPy"
      },
      "source": [
        "a = np.random.rand(15)"
      ],
      "execution_count": null,
      "outputs": []
    },
    {
      "cell_type": "code",
      "metadata": {
        "id": "MSkoJRGZ8Rhy",
        "outputId": "0e8db375-a228-48ca-b90d-9deb422ab9c3",
        "colab": {
          "base_uri": "https://localhost:8080/",
          "height": 70
        }
      },
      "source": [
        "a"
      ],
      "execution_count": null,
      "outputs": [
        {
          "output_type": "execute_result",
          "data": {
            "text/plain": [
              "array([0.93511754, 0.7365938 , 0.27755645, 0.08495522, 0.48114744,\n",
              "       0.92067352, 0.31743523, 0.64060521, 0.32704813, 0.13519718,\n",
              "       0.16638509, 0.60808687, 0.4728253 , 0.2143128 , 0.20948396])"
            ]
          },
          "metadata": {
            "tags": []
          },
          "execution_count": 8
        }
      ]
    },
    {
      "cell_type": "code",
      "metadata": {
        "id": "l_LLLkCf8Leh"
      },
      "source": [
        "b = np.random.rand(5,5) #5x5 Matrix"
      ],
      "execution_count": null,
      "outputs": []
    },
    {
      "cell_type": "code",
      "metadata": {
        "id": "v8n1PLk-8Oja",
        "outputId": "f53d762f-1a87-4386-d0f6-111a9995a12c",
        "colab": {
          "base_uri": "https://localhost:8080/",
          "height": 105
        }
      },
      "source": [
        "b"
      ],
      "execution_count": null,
      "outputs": [
        {
          "output_type": "execute_result",
          "data": {
            "text/plain": [
              "array([[0.35837873, 0.1433858 , 0.84404662, 0.87920659, 0.50433188],\n",
              "       [0.14926249, 0.59447225, 0.93798646, 0.78391793, 0.87813267],\n",
              "       [0.56677545, 0.2033882 , 0.09393759, 0.32372751, 0.343885  ],\n",
              "       [0.62976316, 0.24269745, 0.07689532, 0.81275357, 0.25822332],\n",
              "       [0.88553978, 0.57594792, 0.38533065, 0.59125801, 0.58393034]])"
            ]
          },
          "metadata": {
            "tags": []
          },
          "execution_count": 10
        }
      ]
    },
    {
      "cell_type": "markdown",
      "metadata": {
        "id": "cTSgmOQU8ceC"
      },
      "source": [
        "#### randn() \n",
        "Used for normal distribution between 0 and 1"
      ]
    },
    {
      "cell_type": "code",
      "metadata": {
        "id": "fLLIa4js8TLP"
      },
      "source": [
        "c = np.random.randn(15)"
      ],
      "execution_count": null,
      "outputs": []
    },
    {
      "cell_type": "code",
      "metadata": {
        "id": "aUMLgqRQ85ax",
        "outputId": "a453acfe-be27-4460-925f-3a48a1c1e612",
        "colab": {
          "base_uri": "https://localhost:8080/",
          "height": 70
        }
      },
      "source": [
        "c"
      ],
      "execution_count": null,
      "outputs": [
        {
          "output_type": "execute_result",
          "data": {
            "text/plain": [
              "array([ 0.99453611, -0.81427904, -1.62406307, -0.37076726, -0.33077293,\n",
              "        1.3645252 ,  0.31979064, -0.54815035, -0.60875082,  1.30015694,\n",
              "        1.00860615,  1.39412885, -1.6325196 ,  0.48390038,  0.21205566])"
            ]
          },
          "metadata": {
            "tags": []
          },
          "execution_count": 12
        }
      ]
    },
    {
      "cell_type": "markdown",
      "metadata": {
        "id": "zadxUntTCjDU"
      },
      "source": [
        "Visualization of randn()  "
      ]
    },
    {
      "cell_type": "code",
      "metadata": {
        "id": "eV2a22Wr86Ce",
        "outputId": "dcb4d1ba-8b86-4396-bd2f-7c8c6c19d87f",
        "colab": {
          "base_uri": "https://localhost:8080/",
          "height": 282
        }
      },
      "source": [
        "import pandas as pd\n",
        "pd.DataFrame(c).plot( kind = 'density')"
      ],
      "execution_count": null,
      "outputs": [
        {
          "output_type": "execute_result",
          "data": {
            "text/plain": [
              "<matplotlib.axes._subplots.AxesSubplot at 0x7f77c6c84160>"
            ]
          },
          "metadata": {
            "tags": []
          },
          "execution_count": 13
        },
        {
          "output_type": "display_data",
          "data": {
            "image/png": "[encoded data removed]",
            "text/plain": [
              "<Figure size 432x288 with 1 Axes>"
            ]
          },
          "metadata": {
            "tags": [],
            "needs_background": "light"
          }
        }
      ]
    },
    {
      "cell_type": "code",
      "metadata": {
        "id": "L0Ly2n6c9BFP",
        "outputId": "76802335-d639-461f-fdaa-dc026d07508a",
        "colab": {
          "base_uri": "https://localhost:8080/",
          "height": 34
        }
      },
      "source": [
        "c.mean()"
      ],
      "execution_count": null,
      "outputs": [
        {
          "output_type": "execute_result",
          "data": {
            "text/plain": [
              "0.07655979204356149"
            ]
          },
          "metadata": {
            "tags": []
          },
          "execution_count": 14
        }
      ]
    },
    {
      "cell_type": "code",
      "metadata": {
        "id": "ivAr04TQ-Nuc",
        "outputId": "05ffe912-207e-4aab-8bed-bd31baaaec40",
        "colab": {
          "base_uri": "https://localhost:8080/",
          "height": 34
        }
      },
      "source": [
        "c.std()"
      ],
      "execution_count": null,
      "outputs": [
        {
          "output_type": "execute_result",
          "data": {
            "text/plain": [
              "0.9892579698572705"
            ]
          },
          "metadata": {
            "tags": []
          },
          "execution_count": 15
        }
      ]
    },
    {
      "cell_type": "markdown",
      "metadata": {
        "id": "mDlE7xGa-ubP"
      },
      "source": [
        "#### randint()\n",
        "To generate random integers between the lower and the upper bounds"
      ]
    },
    {
      "cell_type": "code",
      "metadata": {
        "id": "h6S2dabw-tM9"
      },
      "source": [
        "d = np.random.randint(67,90)"
      ],
      "execution_count": null,
      "outputs": []
    },
    {
      "cell_type": "code",
      "metadata": {
        "id": "h-eox2-y-PKq",
        "outputId": "6086e793-b2d5-47ba-eff7-acccb6d0f180",
        "colab": {
          "base_uri": "https://localhost:8080/"
        }
      },
      "source": [
        "d"
      ],
      "execution_count": null,
      "outputs": [
        {
          "output_type": "execute_result",
          "data": {
            "text/plain": [
              "74"
            ]
          },
          "metadata": {
            "tags": []
          },
          "execution_count": 17
        }
      ]
    },
    {
      "cell_type": "code",
      "metadata": {
        "id": "gCemnIbL_GZn",
        "outputId": "5b87bc4a-dbe7-4771-b954-9ffbf7d9042f",
        "colab": {
          "base_uri": "https://localhost:8080/"
        }
      },
      "source": [
        "type(d)"
      ],
      "execution_count": null,
      "outputs": [
        {
          "output_type": "execute_result",
          "data": {
            "text/plain": [
              "int"
            ]
          },
          "metadata": {
            "tags": []
          },
          "execution_count": 18
        }
      ]
    },
    {
      "cell_type": "markdown",
      "metadata": {
        "id": "riiWiT-K_ZOF"
      },
      "source": [
        "To generate a specific number of integers between the upper and lower bounds"
      ]
    },
    {
      "cell_type": "code",
      "metadata": {
        "id": "-IMzp_YW_QSI"
      },
      "source": [
        "e = np.random.randint(67,90,10)"
      ],
      "execution_count": null,
      "outputs": []
    },
    {
      "cell_type": "code",
      "metadata": {
        "id": "jaUgXacM_l6C",
        "outputId": "f7c14287-f76d-4bd0-db20-ed33607074f2",
        "colab": {
          "base_uri": "https://localhost:8080/"
        }
      },
      "source": [
        "e"
      ],
      "execution_count": null,
      "outputs": [
        {
          "output_type": "execute_result",
          "data": {
            "text/plain": [
              "array([87, 78, 73, 87, 89, 81, 72, 76, 84, 89])"
            ]
          },
          "metadata": {
            "tags": []
          },
          "execution_count": 20
        }
      ]
    },
    {
      "cell_type": "markdown",
      "metadata": {
        "id": "URliF1PX_-2-"
      },
      "source": [
        "### Evenly spaced numbers"
      ]
    },
    {
      "cell_type": "markdown",
      "metadata": {
        "id": "8VQYxNMxAIW1"
      },
      "source": [
        "**arange()** - Creates evenly spaced values within the interval  "
      ]
    },
    {
      "cell_type": "code",
      "metadata": {
        "id": "s0b-ntgu_mxM"
      },
      "source": [
        "a = np.arange(1 , 50)"
      ],
      "execution_count": null,
      "outputs": []
    },
    {
      "cell_type": "code",
      "metadata": {
        "id": "JYcomqVoAHLP",
        "outputId": "398fa246-651b-481c-cc10-8b03defd286d",
        "colab": {
          "base_uri": "https://localhost:8080/",
          "height": 70
        }
      },
      "source": [
        "a"
      ],
      "execution_count": null,
      "outputs": [
        {
          "output_type": "execute_result",
          "data": {
            "text/plain": [
              "array([ 1,  2,  3,  4,  5,  6,  7,  8,  9, 10, 11, 12, 13, 14, 15, 16, 17,\n",
              "       18, 19, 20, 21, 22, 23, 24, 25, 26, 27, 28, 29, 30, 31, 32, 33, 34,\n",
              "       35, 36, 37, 38, 39, 40, 41, 42, 43, 44, 45, 46, 47, 48, 49])"
            ]
          },
          "metadata": {
            "tags": []
          },
          "execution_count": 22
        }
      ]
    },
    {
      "cell_type": "markdown",
      "metadata": {
        "id": "T2KELpu3AcF4"
      },
      "source": [
        "Creating evenly spaced values within the interval of cerstain steps"
      ]
    },
    {
      "cell_type": "code",
      "metadata": {
        "id": "lmvISdoWAaRB"
      },
      "source": [
        "a1 = np.arange(1 , 50, 2)"
      ],
      "execution_count": null,
      "outputs": []
    },
    {
      "cell_type": "code",
      "metadata": {
        "id": "kiofv9M8AR7L",
        "outputId": "a9e5687f-69ce-4e69-8f51-beec80812f79",
        "colab": {
          "base_uri": "https://localhost:8080/",
          "height": 52
        }
      },
      "source": [
        "a1"
      ],
      "execution_count": null,
      "outputs": [
        {
          "output_type": "execute_result",
          "data": {
            "text/plain": [
              "array([ 1,  3,  5,  7,  9, 11, 13, 15, 17, 19, 21, 23, 25, 27, 29, 31, 33,\n",
              "       35, 37, 39, 41, 43, 45, 47, 49])"
            ]
          },
          "metadata": {
            "tags": []
          },
          "execution_count": 24
        }
      ]
    },
    {
      "cell_type": "code",
      "metadata": {
        "id": "sCnlKlw6Ak0s",
        "outputId": "a7709449-de00-4a1d-fe89-c81366b3d0fa",
        "colab": {
          "base_uri": "https://localhost:8080/",
          "height": 34
        }
      },
      "source": [
        "type(a1)"
      ],
      "execution_count": null,
      "outputs": [
        {
          "output_type": "execute_result",
          "data": {
            "text/plain": [
              "numpy.ndarray"
            ]
          },
          "metadata": {
            "tags": []
          },
          "execution_count": 25
        }
      ]
    },
    {
      "cell_type": "markdown",
      "metadata": {
        "id": "AMJqkI8LBFo6"
      },
      "source": [
        "### Creating a diagonal matrix "
      ]
    },
    {
      "cell_type": "markdown",
      "metadata": {
        "id": "WsgSmW91BPVV"
      },
      "source": [
        "***eye()*** method creates a diagonal of ones and zeros "
      ]
    },
    {
      "cell_type": "code",
      "metadata": {
        "id": "9JWM-F7oBES3"
      },
      "source": [
        "x = np.eye(5) # 5x5 matrix "
      ],
      "execution_count": null,
      "outputs": []
    },
    {
      "cell_type": "code",
      "metadata": {
        "id": "-ux93nMtApJq",
        "outputId": "024a8d51-05c1-48af-c830-430bf6a110bb",
        "colab": {
          "base_uri": "https://localhost:8080/",
          "height": 105
        }
      },
      "source": [
        "x"
      ],
      "execution_count": null,
      "outputs": [
        {
          "output_type": "execute_result",
          "data": {
            "text/plain": [
              "array([[1., 0., 0., 0., 0.],\n",
              "       [0., 1., 0., 0., 0.],\n",
              "       [0., 0., 1., 0., 0.],\n",
              "       [0., 0., 0., 1., 0.],\n",
              "       [0., 0., 0., 0., 1.]])"
            ]
          },
          "metadata": {
            "tags": []
          },
          "execution_count": 27
        }
      ]
    },
    {
      "cell_type": "markdown",
      "metadata": {
        "id": "ZtWq6_dGB0wT"
      },
      "source": [
        "### Array of 1's"
      ]
    },
    {
      "cell_type": "code",
      "metadata": {
        "id": "UqvJyNHYBjr2",
        "outputId": "921c531a-5191-4ae6-820f-f3923940863e",
        "colab": {
          "base_uri": "https://localhost:8080/",
          "height": 34
        }
      },
      "source": [
        "np.ones(10)"
      ],
      "execution_count": null,
      "outputs": [
        {
          "output_type": "execute_result",
          "data": {
            "text/plain": [
              "array([1., 1., 1., 1., 1., 1., 1., 1., 1., 1.])"
            ]
          },
          "metadata": {
            "tags": []
          },
          "execution_count": 28
        }
      ]
    },
    {
      "cell_type": "markdown",
      "metadata": {
        "id": "9xwtImy_B847"
      },
      "source": [
        "### Matrix of 1's"
      ]
    },
    {
      "cell_type": "code",
      "metadata": {
        "id": "tLUbICodB6Lk",
        "outputId": "088884f7-82aa-4c4d-fcf2-353ce05ac515",
        "colab": {
          "base_uri": "https://localhost:8080/",
          "height": 87
        }
      },
      "source": [
        "np.ones((4,5))"
      ],
      "execution_count": null,
      "outputs": [
        {
          "output_type": "execute_result",
          "data": {
            "text/plain": [
              "array([[1., 1., 1., 1., 1.],\n",
              "       [1., 1., 1., 1., 1.],\n",
              "       [1., 1., 1., 1., 1.],\n",
              "       [1., 1., 1., 1., 1.]])"
            ]
          },
          "metadata": {
            "tags": []
          },
          "execution_count": 29
        }
      ]
    },
    {
      "cell_type": "markdown",
      "metadata": {
        "id": "7sTHP4eWCSJR"
      },
      "source": [
        "### Array of 0's"
      ]
    },
    {
      "cell_type": "code",
      "metadata": {
        "id": "ecKrTQR8CE6e",
        "outputId": "64eaff43-298b-4f32-8737-7cd851d3ea66",
        "colab": {
          "base_uri": "https://localhost:8080/",
          "height": 34
        }
      },
      "source": [
        "np.zeros(10)"
      ],
      "execution_count": null,
      "outputs": [
        {
          "output_type": "execute_result",
          "data": {
            "text/plain": [
              "array([0., 0., 0., 0., 0., 0., 0., 0., 0., 0.])"
            ]
          },
          "metadata": {
            "tags": []
          },
          "execution_count": 30
        }
      ]
    },
    {
      "cell_type": "markdown",
      "metadata": {
        "id": "0GB7vD8hDgJu"
      },
      "source": [
        "### Shape, length, type, reshape , max and min values"
      ]
    },
    {
      "cell_type": "code",
      "metadata": {
        "id": "VS1kmtY3CYla",
        "outputId": "a4340bbf-22e9-410c-829e-0aa4835b183f",
        "colab": {
          "base_uri": "https://localhost:8080/",
          "height": 52
        }
      },
      "source": [
        "my_list = [10, 20, 30, 40, 50]\n",
        "print(my_list)\n",
        "print(type(my_list))"
      ],
      "execution_count": null,
      "outputs": [
        {
          "output_type": "stream",
          "text": [
            "[10, 20, 30, 40, 50]\n",
            "<class 'list'>\n"
          ],
          "name": "stdout"
        }
      ]
    },
    {
      "cell_type": "code",
      "metadata": {
        "id": "ZWolfBcZED5J"
      },
      "source": [
        "x = np.array(my_list)"
      ],
      "execution_count": null,
      "outputs": []
    },
    {
      "cell_type": "code",
      "metadata": {
        "id": "lqy-Ye_fEM1F",
        "outputId": "2734b262-0951-4bf2-a10f-9762ad2f79a6",
        "colab": {
          "base_uri": "https://localhost:8080/",
          "height": 34
        }
      },
      "source": [
        "x"
      ],
      "execution_count": null,
      "outputs": [
        {
          "output_type": "execute_result",
          "data": {
            "text/plain": [
              "array([10, 20, 30, 40, 50])"
            ]
          },
          "metadata": {
            "tags": []
          },
          "execution_count": 33
        }
      ]
    },
    {
      "cell_type": "markdown",
      "metadata": {
        "id": "Vx4hkOPsEOw7"
      },
      "source": [
        "#### Length of the numpy array"
      ]
    },
    {
      "cell_type": "code",
      "metadata": {
        "id": "EsyeVP7AENtl",
        "outputId": "26957b4c-f1e7-47df-eff2-69a8b38c30da",
        "colab": {
          "base_uri": "https://localhost:8080/",
          "height": 34
        }
      },
      "source": [
        "len(x)"
      ],
      "execution_count": null,
      "outputs": [
        {
          "output_type": "execute_result",
          "data": {
            "text/plain": [
              "5"
            ]
          },
          "metadata": {
            "tags": []
          },
          "execution_count": 34
        }
      ]
    },
    {
      "cell_type": "markdown",
      "metadata": {
        "id": "uvhIjum4EXrd"
      },
      "source": [
        "#### Shape of the numpy array"
      ]
    },
    {
      "cell_type": "code",
      "metadata": {
        "id": "HeUpYIevEUWk",
        "outputId": "307ec794-2e91-48ca-ef3a-da871f3095c9",
        "colab": {
          "base_uri": "https://localhost:8080/",
          "height": 34
        }
      },
      "source": [
        "x.shape"
      ],
      "execution_count": null,
      "outputs": [
        {
          "output_type": "execute_result",
          "data": {
            "text/plain": [
              "(5,)"
            ]
          },
          "metadata": {
            "tags": []
          },
          "execution_count": 35
        }
      ]
    },
    {
      "cell_type": "markdown",
      "metadata": {
        "id": "-23fcGEeEftq"
      },
      "source": [
        "#### Datatype of the numpy array"
      ]
    },
    {
      "cell_type": "code",
      "metadata": {
        "id": "7eU8hJynEbeh",
        "outputId": "9ee07434-f65a-4d87-80e8-7b40c531ca1a",
        "colab": {
          "base_uri": "https://localhost:8080/",
          "height": 34
        }
      },
      "source": [
        "x.dtype"
      ],
      "execution_count": null,
      "outputs": [
        {
          "output_type": "execute_result",
          "data": {
            "text/plain": [
              "dtype('int64')"
            ]
          },
          "metadata": {
            "tags": []
          },
          "execution_count": 36
        }
      ]
    },
    {
      "cell_type": "code",
      "metadata": {
        "id": "-XL-MP_iEk6g",
        "outputId": "ebf65d46-c8c0-47ca-9a39-10ba1a4c9637",
        "colab": {
          "base_uri": "https://localhost:8080/",
          "height": 34
        }
      },
      "source": [
        "x[0].dtype"
      ],
      "execution_count": null,
      "outputs": [
        {
          "output_type": "execute_result",
          "data": {
            "text/plain": [
              "dtype('int64')"
            ]
          },
          "metadata": {
            "tags": []
          },
          "execution_count": 37
        }
      ]
    },
    {
      "cell_type": "markdown",
      "metadata": {
        "id": "il1syOthEplc"
      },
      "source": [
        "#### Reshaping 1-D array into a matrix"
      ]
    },
    {
      "cell_type": "code",
      "metadata": {
        "id": "pZuyEk7GFL2H"
      },
      "source": [
        "x1 = [100, 200, 350, 450, 500, 600, 750, 850]\n"
      ],
      "execution_count": null,
      "outputs": []
    },
    {
      "cell_type": "code",
      "metadata": {
        "id": "4B6pv7AMEnob"
      },
      "source": [
        "y = np.reshape(x1 , (2,4))"
      ],
      "execution_count": null,
      "outputs": []
    },
    {
      "cell_type": "code",
      "metadata": {
        "id": "1a078TF5E7Je",
        "outputId": "df5d011f-d097-4ecb-c446-c541eb327bf2",
        "colab": {
          "base_uri": "https://localhost:8080/",
          "height": 52
        }
      },
      "source": [
        "y"
      ],
      "execution_count": null,
      "outputs": [
        {
          "output_type": "execute_result",
          "data": {
            "text/plain": [
              "array([[100, 200, 350, 450],\n",
              "       [500, 600, 750, 850]])"
            ]
          },
          "metadata": {
            "tags": []
          },
          "execution_count": 40
        }
      ]
    },
    {
      "cell_type": "markdown",
      "metadata": {
        "id": "8ql4MGjyFho1"
      },
      "source": [
        "#### Obtaining the maximum and the minimum value"
      ]
    },
    {
      "cell_type": "code",
      "metadata": {
        "id": "zYWL3gMfFhCA",
        "outputId": "a0c02f37-9416-4cdc-a489-20b79f302b56",
        "colab": {
          "base_uri": "https://localhost:8080/",
          "height": 34
        }
      },
      "source": [
        "x.max()"
      ],
      "execution_count": null,
      "outputs": [
        {
          "output_type": "execute_result",
          "data": {
            "text/plain": [
              "50"
            ]
          },
          "metadata": {
            "tags": []
          },
          "execution_count": 41
        }
      ]
    },
    {
      "cell_type": "code",
      "metadata": {
        "id": "ttk-wgUsE9AY",
        "outputId": "8ddc6b4d-87aa-47f0-9aed-082a2342bf03",
        "colab": {
          "base_uri": "https://localhost:8080/",
          "height": 34
        }
      },
      "source": [
        "x.min()"
      ],
      "execution_count": null,
      "outputs": [
        {
          "output_type": "execute_result",
          "data": {
            "text/plain": [
              "10"
            ]
          },
          "metadata": {
            "tags": []
          },
          "execution_count": 42
        }
      ]
    },
    {
      "cell_type": "markdown",
      "metadata": {
        "id": "YKNEZFJ0F0ep"
      },
      "source": [
        "#### Location of the maximum element "
      ]
    },
    {
      "cell_type": "code",
      "metadata": {
        "id": "rb6rgfHwFzAp"
      },
      "source": [
        "a1 = np.array([2,7,19,89,10,-1])"
      ],
      "execution_count": null,
      "outputs": []
    },
    {
      "cell_type": "code",
      "metadata": {
        "id": "UT11wDBOGOWy"
      },
      "source": [
        "a2 = np.array([-0.111 , 0.985, -0.009, 0.9, 0.12, 0.45 ])"
      ],
      "execution_count": null,
      "outputs": []
    },
    {
      "cell_type": "code",
      "metadata": {
        "id": "E1VFfAn3Gdtk",
        "outputId": "f353d7f6-65da-4db9-c9b8-c1c58817905d",
        "colab": {
          "base_uri": "https://localhost:8080/",
          "height": 34
        }
      },
      "source": [
        "np.argmax(a1) # Max element in array a1"
      ],
      "execution_count": null,
      "outputs": [
        {
          "output_type": "execute_result",
          "data": {
            "text/plain": [
              "3"
            ]
          },
          "metadata": {
            "tags": []
          },
          "execution_count": 45
        }
      ]
    },
    {
      "cell_type": "code",
      "metadata": {
        "id": "9BNry_IeG8U6",
        "outputId": "98abd4c5-fbe3-4af1-ddf2-3628bf7c021d",
        "colab": {
          "base_uri": "https://localhost:8080/",
          "height": 34
        }
      },
      "source": [
        "np.argmin(a2) # Min element in array a2"
      ],
      "execution_count": null,
      "outputs": [
        {
          "output_type": "execute_result",
          "data": {
            "text/plain": [
              "0"
            ]
          },
          "metadata": {
            "tags": []
          },
          "execution_count": 46
        }
      ]
    },
    {
      "cell_type": "code",
      "metadata": {
        "id": "Ve9jn-_jGkYo",
        "outputId": "4c0bc9b9-23b7-475a-cf74-f8bb7252273d",
        "colab": {
          "base_uri": "https://localhost:8080/",
          "height": 34
        }
      },
      "source": [
        "a1[np.argmax(a1)]"
      ],
      "execution_count": null,
      "outputs": [
        {
          "output_type": "execute_result",
          "data": {
            "text/plain": [
              "89"
            ]
          },
          "metadata": {
            "tags": []
          },
          "execution_count": 47
        }
      ]
    },
    {
      "cell_type": "markdown",
      "metadata": {
        "id": "LDRdCx1OHmKC"
      },
      "source": [
        "### Mathematical Operations"
      ]
    },
    {
      "cell_type": "code",
      "metadata": {
        "id": "iwy1k8KCGti8"
      },
      "source": [
        "x = np.arange(1, 10)"
      ],
      "execution_count": null,
      "outputs": []
    },
    {
      "cell_type": "code",
      "metadata": {
        "id": "N_IhNqU8HrPB",
        "outputId": "0c731a27-d355-4a92-89f2-00e6131dc38f",
        "colab": {
          "base_uri": "https://localhost:8080/",
          "height": 34
        }
      },
      "source": [
        " x"
      ],
      "execution_count": null,
      "outputs": [
        {
          "output_type": "execute_result",
          "data": {
            "text/plain": [
              "array([1, 2, 3, 4, 5, 6, 7, 8, 9])"
            ]
          },
          "metadata": {
            "tags": []
          },
          "execution_count": 49
        }
      ]
    },
    {
      "cell_type": "code",
      "metadata": {
        "id": "Gx1taL_BHuXo"
      },
      "source": [
        "y = np.arange(1, 10)"
      ],
      "execution_count": null,
      "outputs": []
    },
    {
      "cell_type": "code",
      "metadata": {
        "id": "a4tHlobmHy8B",
        "outputId": "2b643088-5e54-450d-a68b-90b4ea60a2c3",
        "colab": {
          "base_uri": "https://localhost:8080/",
          "height": 34
        }
      },
      "source": [
        "y"
      ],
      "execution_count": null,
      "outputs": [
        {
          "output_type": "execute_result",
          "data": {
            "text/plain": [
              "array([1, 2, 3, 4, 5, 6, 7, 8, 9])"
            ]
          },
          "metadata": {
            "tags": []
          },
          "execution_count": 51
        }
      ]
    },
    {
      "cell_type": "markdown",
      "metadata": {
        "id": "dL5XztbdH2Pi"
      },
      "source": [
        "#### Addition of 2 numpy arrays"
      ]
    },
    {
      "cell_type": "code",
      "metadata": {
        "id": "P-4wADkVH1E8"
      },
      "source": [
        "sum = x + y"
      ],
      "execution_count": null,
      "outputs": []
    },
    {
      "cell_type": "code",
      "metadata": {
        "id": "kCyetRnYH6S4",
        "outputId": "122c006a-d7e5-4e97-c392-a041e7e95cac",
        "colab": {
          "base_uri": "https://localhost:8080/",
          "height": 34
        }
      },
      "source": [
        "sum"
      ],
      "execution_count": null,
      "outputs": [
        {
          "output_type": "execute_result",
          "data": {
            "text/plain": [
              "array([ 2,  4,  6,  8, 10, 12, 14, 16, 18])"
            ]
          },
          "metadata": {
            "tags": []
          },
          "execution_count": 53
        }
      ]
    },
    {
      "cell_type": "markdown",
      "metadata": {
        "id": "xm4foq5UID0g"
      },
      "source": [
        "#### Squaring of numpy array"
      ]
    },
    {
      "cell_type": "code",
      "metadata": {
        "id": "8LFya8gLH68w"
      },
      "source": [
        "sq = x ** 2"
      ],
      "execution_count": null,
      "outputs": []
    },
    {
      "cell_type": "code",
      "metadata": {
        "id": "EHbuOG5gIYAR",
        "outputId": "dd64d129-1cf2-4b6c-9a18-391fbff3f447",
        "colab": {
          "base_uri": "https://localhost:8080/",
          "height": 34
        }
      },
      "source": [
        "sq"
      ],
      "execution_count": null,
      "outputs": [
        {
          "output_type": "execute_result",
          "data": {
            "text/plain": [
              "array([ 1,  4,  9, 16, 25, 36, 49, 64, 81])"
            ]
          },
          "metadata": {
            "tags": []
          },
          "execution_count": 55
        }
      ]
    },
    {
      "cell_type": "markdown",
      "metadata": {
        "id": "IPf9MvCNIPCZ"
      },
      "source": [
        "#### Square-root of a numpy array"
      ]
    },
    {
      "cell_type": "code",
      "metadata": {
        "id": "ROurvsmzIJyH"
      },
      "source": [
        "sqrt = np.sqrt(x)"
      ],
      "execution_count": null,
      "outputs": []
    },
    {
      "cell_type": "code",
      "metadata": {
        "id": "nuFyv2clIfVQ",
        "outputId": "c32c1164-49d4-4465-9569-10e89c0bb47b",
        "colab": {
          "base_uri": "https://localhost:8080/",
          "height": 52
        }
      },
      "source": [
        "sqrt"
      ],
      "execution_count": null,
      "outputs": [
        {
          "output_type": "execute_result",
          "data": {
            "text/plain": [
              "array([1.        , 1.41421356, 1.73205081, 2.        , 2.23606798,\n",
              "       2.44948974, 2.64575131, 2.82842712, 3.        ])"
            ]
          },
          "metadata": {
            "tags": []
          },
          "execution_count": 57
        }
      ]
    },
    {
      "cell_type": "markdown",
      "metadata": {
        "id": "JeEUE-e6InB-"
      },
      "source": [
        "#### Exponents of a numpy array"
      ]
    },
    {
      "cell_type": "code",
      "metadata": {
        "id": "T4wBG_B3IgXY"
      },
      "source": [
        "exp = np.exp(x)"
      ],
      "execution_count": null,
      "outputs": []
    },
    {
      "cell_type": "code",
      "metadata": {
        "id": "mC8oFFouItnF",
        "outputId": "ffdf2bb2-5a14-4063-9b47-c0700ef81690",
        "colab": {
          "base_uri": "https://localhost:8080/",
          "height": 70
        }
      },
      "source": [
        "exp"
      ],
      "execution_count": null,
      "outputs": [
        {
          "output_type": "execute_result",
          "data": {
            "text/plain": [
              "array([2.71828183e+00, 7.38905610e+00, 2.00855369e+01, 5.45981500e+01,\n",
              "       1.48413159e+02, 4.03428793e+02, 1.09663316e+03, 2.98095799e+03,\n",
              "       8.10308393e+03])"
            ]
          },
          "metadata": {
            "tags": []
          },
          "execution_count": 59
        }
      ]
    },
    {
      "cell_type": "markdown",
      "metadata": {
        "id": "4BF5ngtaB7fz"
      },
      "source": [
        "### Slicing and Indexing"
      ]
    },
    {
      "cell_type": "code",
      "metadata": {
        "id": "Iln1DFodIue3"
      },
      "source": [
        "x = np.array([10, 20, 30, 40, 50])"
      ],
      "execution_count": null,
      "outputs": []
    },
    {
      "cell_type": "code",
      "metadata": {
        "id": "_vHtPYHZCJXw",
        "outputId": "54e7e3e2-d56b-44f9-918a-0e537a5ee66b",
        "colab": {
          "base_uri": "https://localhost:8080/",
          "height": 34
        }
      },
      "source": [
        "print(x)"
      ],
      "execution_count": null,
      "outputs": [
        {
          "output_type": "stream",
          "text": [
            "[10 20 30 40 50]\n"
          ],
          "name": "stdout"
        }
      ]
    },
    {
      "cell_type": "code",
      "metadata": {
        "id": "mcpyw4xsCOaO",
        "outputId": "d0824e01-82c7-4ea6-be86-2310e7a930e4",
        "colab": {
          "base_uri": "https://localhost:8080/",
          "height": 34
        }
      },
      "source": [
        "type(x)"
      ],
      "execution_count": null,
      "outputs": [
        {
          "output_type": "execute_result",
          "data": {
            "text/plain": [
              "numpy.ndarray"
            ]
          },
          "metadata": {
            "tags": []
          },
          "execution_count": 63
        }
      ]
    },
    {
      "cell_type": "markdown",
      "metadata": {
        "id": "EBok6V71CR5R"
      },
      "source": [
        "#### Accessing the numpy array\n",
        "\n",
        "\n"
      ]
    },
    {
      "cell_type": "code",
      "metadata": {
        "id": "SIphEM8bCQfc",
        "outputId": "b65451a9-75f2-4339-ff0a-4ad39bd473fd",
        "colab": {
          "base_uri": "https://localhost:8080/",
          "height": 105
        }
      },
      "source": [
        "for i in range(len(x)):\n",
        "  print(x[i])"
      ],
      "execution_count": null,
      "outputs": [
        {
          "output_type": "stream",
          "text": [
            "10\n",
            "20\n",
            "30\n",
            "40\n",
            "50\n"
          ],
          "name": "stdout"
        }
      ]
    },
    {
      "cell_type": "markdown",
      "metadata": {
        "id": "tSfJrNvXCrFL"
      },
      "source": [
        "#### Accessing the specific index of the numpy array"
      ]
    },
    {
      "cell_type": "code",
      "metadata": {
        "id": "ctjvzn-WCf6W",
        "outputId": "4a38e9e4-c7ca-4f94-a0e1-0448550615e3",
        "colab": {
          "base_uri": "https://localhost:8080/",
          "height": 34
        }
      },
      "source": [
        "x[0] # Accessing the 0th element of the array"
      ],
      "execution_count": null,
      "outputs": [
        {
          "output_type": "execute_result",
          "data": {
            "text/plain": [
              "10"
            ]
          },
          "metadata": {
            "tags": []
          },
          "execution_count": 66
        }
      ]
    },
    {
      "cell_type": "markdown",
      "metadata": {
        "id": "cpTXRg3bC4tr"
      },
      "source": [
        "#### Starting from the first index and NOT includng the last element"
      ]
    },
    {
      "cell_type": "code",
      "metadata": {
        "id": "cMhcIA0uCy7E",
        "outputId": "d1824203-d597-410e-d585-e0fc56b655d3",
        "colab": {
          "base_uri": "https://localhost:8080/",
          "height": 34
        }
      },
      "source": [
        "x[0:3]"
      ],
      "execution_count": null,
      "outputs": [
        {
          "output_type": "execute_result",
          "data": {
            "text/plain": [
              "array([10, 20, 30])"
            ]
          },
          "metadata": {
            "tags": []
          },
          "execution_count": 67
        }
      ]
    },
    {
      "cell_type": "markdown",
      "metadata": {
        "id": "Wv4YGMkJDNil"
      },
      "source": [
        "#### Broadcasting, altering several values at once"
      ]
    },
    {
      "cell_type": "code",
      "metadata": {
        "id": "ZIrOoPlqDJd5"
      },
      "source": [
        "x[0:2] = 10"
      ],
      "execution_count": null,
      "outputs": []
    },
    {
      "cell_type": "code",
      "metadata": {
        "id": "g1nQDkzNDc6a",
        "outputId": "526297fc-738a-43a2-f1c6-547e1effe938",
        "colab": {
          "base_uri": "https://localhost:8080/",
          "height": 34
        }
      },
      "source": [
        "x"
      ],
      "execution_count": null,
      "outputs": [
        {
          "output_type": "execute_result",
          "data": {
            "text/plain": [
              "array([10, 10, 30, 40, 50])"
            ]
          },
          "metadata": {
            "tags": []
          },
          "execution_count": 69
        }
      ]
    },
    {
      "cell_type": "markdown",
      "metadata": {
        "id": "BtLmUdIHDk_E"
      },
      "source": [
        "### 2-D Array"
      ]
    },
    {
      "cell_type": "markdown",
      "metadata": {
        "id": "zJbjQN_UD4Z1"
      },
      "source": [
        "#### Defining a 2D array"
      ]
    },
    {
      "cell_type": "code",
      "metadata": {
        "id": "ZxzLEh7iDeXg"
      },
      "source": [
        "matrix = np.random.randint(1,50,(5,5))"
      ],
      "execution_count": null,
      "outputs": []
    },
    {
      "cell_type": "code",
      "metadata": {
        "id": "SyUZ8sp7EeL7",
        "outputId": "e97e8675-5637-43d9-fbca-123fbc948492",
        "colab": {
          "base_uri": "https://localhost:8080/",
          "height": 105
        }
      },
      "source": [
        "matrix"
      ],
      "execution_count": null,
      "outputs": [
        {
          "output_type": "execute_result",
          "data": {
            "text/plain": [
              "array([[31, 19, 35, 49, 46],\n",
              "       [13, 40, 43, 18,  1],\n",
              "       [10, 27,  1, 20, 38],\n",
              "       [ 6, 48,  7, 25,  2],\n",
              "       [ 3, 19, 35, 34,  8]])"
            ]
          },
          "metadata": {
            "tags": []
          },
          "execution_count": 78
        }
      ]
    },
    {
      "cell_type": "markdown",
      "metadata": {
        "id": "dJnbix-aErUr"
      },
      "source": [
        "#### Get a row from the matrix"
      ]
    },
    {
      "cell_type": "code",
      "metadata": {
        "id": "WCIIIyewEj8x",
        "outputId": "8e1376d7-da73-40ab-aed0-04c17c9e5f57",
        "colab": {
          "base_uri": "https://localhost:8080/",
          "height": 105
        }
      },
      "source": [
        "matrix[:,0:2]"
      ],
      "execution_count": null,
      "outputs": [
        {
          "output_type": "execute_result",
          "data": {
            "text/plain": [
              "array([[31, 19],\n",
              "       [13, 40],\n",
              "       [10, 27],\n",
              "       [ 6, 48],\n",
              "       [ 3, 19]])"
            ]
          },
          "metadata": {
            "tags": []
          },
          "execution_count": 87
        }
      ]
    },
    {
      "cell_type": "markdown",
      "metadata": {
        "id": "w6fa4-PAFOP5"
      },
      "source": [
        "#### Getting a specific number"
      ]
    },
    {
      "cell_type": "code",
      "metadata": {
        "id": "jee5eDPYFFAR",
        "outputId": "0cce6dd9-cd57-4c08-f117-1f7029eef58e",
        "colab": {
          "base_uri": "https://localhost:8080/",
          "height": 34
        }
      },
      "source": [
        "matrix[3][4]"
      ],
      "execution_count": null,
      "outputs": [
        {
          "output_type": "execute_result",
          "data": {
            "text/plain": [
              "2"
            ]
          },
          "metadata": {
            "tags": []
          },
          "execution_count": 88
        }
      ]
    },
    {
      "cell_type": "markdown",
      "metadata": {
        "id": "Eay2XdmqF33g"
      },
      "source": [
        "#### Generating mini-matrix"
      ]
    },
    {
      "cell_type": "code",
      "metadata": {
        "id": "XtczCt04FhCr"
      },
      "source": [
        "mini_matrix = matrix[:4]"
      ],
      "execution_count": null,
      "outputs": []
    },
    {
      "cell_type": "code",
      "metadata": {
        "id": "6NhgDOQSF-bW",
        "outputId": "46046ec8-1433-41d3-a38a-db61e8b225e7",
        "colab": {
          "base_uri": "https://localhost:8080/",
          "height": 87
        }
      },
      "source": [
        "mini_matrix"
      ],
      "execution_count": null,
      "outputs": [
        {
          "output_type": "execute_result",
          "data": {
            "text/plain": [
              "array([[31, 19, 35, 49, 46],\n",
              "       [13, 40, 43, 18,  1],\n",
              "       [10, 27,  1, 20, 38],\n",
              "       [ 6, 48,  7, 25,  2]])"
            ]
          },
          "metadata": {
            "tags": []
          },
          "execution_count": 90
        }
      ]
    },
    {
      "cell_type": "markdown",
      "metadata": {
        "id": "RRBIzydmGmDc"
      },
      "source": [
        "#### Elements Selection(Conditional)"
      ]
    },
    {
      "cell_type": "code",
      "metadata": {
        "id": "O7jW6Ug7F_jG"
      },
      "source": [
        "matrix = np.random.randint(10,20,(5,5))"
      ],
      "execution_count": null,
      "outputs": []
    },
    {
      "cell_type": "code",
      "metadata": {
        "id": "2C5XIweLGyR5",
        "outputId": "4ffa3851-4562-4e4b-bb15-9bec320698c9",
        "colab": {
          "base_uri": "https://localhost:8080/",
          "height": 105
        }
      },
      "source": [
        "matrix"
      ],
      "execution_count": null,
      "outputs": [
        {
          "output_type": "execute_result",
          "data": {
            "text/plain": [
              "array([[19, 12, 13, 19, 12],\n",
              "       [18, 10, 17, 16, 12],\n",
              "       [11, 19, 16, 17, 19],\n",
              "       [13, 11, 11, 10, 18],\n",
              "       [19, 17, 18, 13, 18]])"
            ]
          },
          "metadata": {
            "tags": []
          },
          "execution_count": 94
        }
      ]
    },
    {
      "cell_type": "code",
      "metadata": {
        "id": "QSgrD9xxGzTo",
        "outputId": "2f67cb8c-2b7c-4fd2-98d4-427a06b1f14f",
        "colab": {
          "base_uri": "https://localhost:8080/",
          "height": 34
        }
      },
      "source": [
        "matrix[matrix>12]"
      ],
      "execution_count": null,
      "outputs": [
        {
          "output_type": "execute_result",
          "data": {
            "text/plain": [
              "array([19, 13, 19, 18, 17, 16, 19, 16, 17, 19, 13, 18, 19, 17, 18, 13, 18])"
            ]
          },
          "metadata": {
            "tags": []
          },
          "execution_count": 95
        }
      ]
    },
    {
      "cell_type": "code",
      "metadata": {
        "id": "JQ-mOBdRH1gS"
      },
      "source": [
        "new_mat = matrix[matrix % 2 == 0] # Displays all even numbers"
      ],
      "execution_count": null,
      "outputs": []
    },
    {
      "cell_type": "code",
      "metadata": {
        "id": "uHQdU3Y-H-pV",
        "outputId": "31c43532-e38b-4eb3-9be9-1d4babdd9656",
        "colab": {
          "base_uri": "https://localhost:8080/",
          "height": 34
        }
      },
      "source": [
        "new_mat"
      ],
      "execution_count": null,
      "outputs": [
        {
          "output_type": "execute_result",
          "data": {
            "text/plain": [
              "array([12, 12, 18, 10, 16, 12, 16, 10, 18, 18, 18])"
            ]
          },
          "metadata": {
            "tags": []
          },
          "execution_count": 97
        }
      ]
    },
    {
      "cell_type": "markdown",
      "metadata": {
        "id": "Popg2-KzKIUj"
      },
      "source": [
        "### Creating linespaces"
      ]
    },
    {
      "cell_type": "code",
      "metadata": {
        "id": "UM-ndQI6H_r-",
        "outputId": "428b5344-aa23-4dc6-ff92-59cc013a814a",
        "colab": {
          "base_uri": "https://localhost:8080/",
          "height": 34
        }
      },
      "source": [
        "np.linspace(2.0, 3.0, num = 6)"
      ],
      "execution_count": 99,
      "outputs": [
        {
          "output_type": "execute_result",
          "data": {
            "text/plain": [
              "array([2. , 2.2, 2.4, 2.6, 2.8, 3. ])"
            ]
          },
          "metadata": {
            "tags": []
          },
          "execution_count": 99
        }
      ]
    },
    {
      "cell_type": "code",
      "metadata": {
        "id": "nwzoKvtQKL9c",
        "outputId": "a21b18a4-4463-45e2-9b74-a882c942ab8e",
        "colab": {
          "base_uri": "https://localhost:8080/",
          "height": 52
        }
      },
      "source": [
        "np.linspace(2.0, 3.0, num = 6, endpoint = False)"
      ],
      "execution_count": 100,
      "outputs": [
        {
          "output_type": "execute_result",
          "data": {
            "text/plain": [
              "array([2.        , 2.16666667, 2.33333333, 2.5       , 2.66666667,\n",
              "       2.83333333])"
            ]
          },
          "metadata": {
            "tags": []
          },
          "execution_count": 100
        }
      ]
    },
    {
      "cell_type": "code",
      "metadata": {
        "id": "9EI4G70NKm0K",
        "outputId": "16bce6ca-f681-495d-b1a3-6ed54558a42d",
        "colab": {
          "base_uri": "https://localhost:8080/",
          "height": 52
        }
      },
      "source": [
        "np.linspace(2.0, 3.0, num = 6, retstep = True, endpoint = False)"
      ],
      "execution_count": 102,
      "outputs": [
        {
          "output_type": "execute_result",
          "data": {
            "text/plain": [
              "(array([2.        , 2.16666667, 2.33333333, 2.5       , 2.66666667,\n",
              "        2.83333333]), 0.16666666666666666)"
            ]
          },
          "metadata": {
            "tags": []
          },
          "execution_count": 102
        }
      ]
    },
    {
      "cell_type": "markdown",
      "metadata": {
        "id": "np1eqB7WLTs4"
      },
      "source": [
        "### Return numbers evenly spaced on a log scale"
      ]
    },
    {
      "cell_type": "code",
      "metadata": {
        "id": "lUH4oYJnK9rH",
        "outputId": "b3e12bc1-54c8-4f03-cdb0-ff99a940ab3d",
        "colab": {
          "base_uri": "https://localhost:8080/",
          "height": 34
        }
      },
      "source": [
        "np.logspace(2.0, 3.0, num = 4)"
      ],
      "execution_count": 104,
      "outputs": [
        {
          "output_type": "execute_result",
          "data": {
            "text/plain": [
              "array([ 100.        ,  215.443469  ,  464.15888336, 1000.        ])"
            ]
          },
          "metadata": {
            "tags": []
          },
          "execution_count": 104
        }
      ]
    },
    {
      "cell_type": "markdown",
      "metadata": {
        "id": "TyBnXCbQNbZZ"
      },
      "source": [
        "### Changing the data types"
      ]
    },
    {
      "cell_type": "code",
      "metadata": {
        "id": "cdDgCsHmLc4f"
      },
      "source": [
        "a = np.array([2,67,9,45,10])"
      ],
      "execution_count": 105,
      "outputs": []
    },
    {
      "cell_type": "code",
      "metadata": {
        "id": "6kix-OcpNj2U",
        "outputId": "c57c9efe-7a47-4438-f92c-3fd910a444ed",
        "colab": {
          "base_uri": "https://localhost:8080/",
          "height": 34
        }
      },
      "source": [
        "a.dtype"
      ],
      "execution_count": 106,
      "outputs": [
        {
          "output_type": "execute_result",
          "data": {
            "text/plain": [
              "dtype('int64')"
            ]
          },
          "metadata": {
            "tags": []
          },
          "execution_count": 106
        }
      ]
    },
    {
      "cell_type": "code",
      "metadata": {
        "id": "zhXtQ4RlNlCS"
      },
      "source": [
        "a = np.array([5, 10, 15, 20, 25], dtype = np.float128)"
      ],
      "execution_count": 107,
      "outputs": []
    },
    {
      "cell_type": "code",
      "metadata": {
        "id": "9o1mmQwjNwhG",
        "outputId": "aabe812e-18db-499e-b6e3-913cd15294a0",
        "colab": {
          "base_uri": "https://localhost:8080/",
          "height": 34
        }
      },
      "source": [
        "a.dtype"
      ],
      "execution_count": 109,
      "outputs": [
        {
          "output_type": "execute_result",
          "data": {
            "text/plain": [
              "dtype('float128')"
            ]
          },
          "metadata": {
            "tags": []
          },
          "execution_count": 109
        }
      ]
    },
    {
      "cell_type": "code",
      "metadata": {
        "id": "3YOCg-NQNxSj"
      },
      "source": [
        ""
      ],
      "execution_count": null,
      "outputs": []
    }
  ]
}