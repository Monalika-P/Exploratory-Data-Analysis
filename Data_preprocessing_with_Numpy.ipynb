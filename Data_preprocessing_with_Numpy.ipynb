{
  "nbformat": 4,
  "nbformat_minor": 0,
  "metadata": {
    "colab": {
      "name": "Data preprocessing with Numpy.ipynb",
      "provenance": [],
      "toc_visible": true,
      "authorship_tag": "ABX9TyNxR1uNOqnXwToSzodhKjWr",
      "include_colab_link": true
    },
    "kernelspec": {
      "name": "python3",
      "display_name": "Python 3"
    }
  },
  "cells": [
    {
      "cell_type": "markdown",
      "metadata": {
        "id": "view-in-github",
        "colab_type": "text"
      },
      "source": [
        "<a href=\"https://colab.research.google.com/github/Monalika-P/Exploratory-Data-Analysis/blob/main/Data_preprocessing_with_Numpy.ipynb\" target=\"_parent\"><img src=\"https://colab.research.google.com/assets/colab-badge.svg\" alt=\"Open In Colab\"/></a>"
      ]
    },
    {
      "cell_type": "markdown",
      "metadata": {
        "id": "0NPyMVqW5GRV"
      },
      "source": [
        "### Author - Monalika P"
      ]
    },
    {
      "cell_type": "markdown",
      "metadata": {
        "id": "-767z1TF5zl1"
      },
      "source": [
        "### Importing the library"
      ]
    },
    {
      "cell_type": "code",
      "metadata": {
        "id": "Hc_jVpVP3wO_"
      },
      "source": [
        "import numpy as np"
      ],
      "execution_count": 1,
      "outputs": []
    },
    {
      "cell_type": "markdown",
      "metadata": {
        "id": "KUxBaGUC53mO"
      },
      "source": [
        "### Creating a list"
      ]
    },
    {
      "cell_type": "code",
      "metadata": {
        "id": "FFl6Ia8V5QF_",
        "outputId": "b2f4381d-eda1-4572-e9ed-668176e86229",
        "colab": {
          "base_uri": "https://localhost:8080/",
          "height": 52
        }
      },
      "source": [
        "my_list = [10, 20, 30, 40, 50]\n",
        "print(my_list)\n",
        "print(type(my_list))"
      ],
      "execution_count": 2,
      "outputs": [
        {
          "output_type": "stream",
          "text": [
            "[10, 20, 30, 40, 50]\n",
            "<class 'list'>\n"
          ],
          "name": "stdout"
        }
      ]
    },
    {
      "cell_type": "code",
      "metadata": {
        "id": "UxjXA9Zw5Tpq",
        "outputId": "bfb36251-a407-49d7-9f92-48d9fbe7bc9b",
        "colab": {
          "base_uri": "https://localhost:8080/",
          "height": 52
        }
      },
      "source": [
        "x = np.array(my_list)\n",
        "print(x)\n",
        "print(type(x))"
      ],
      "execution_count": 3,
      "outputs": [
        {
          "output_type": "stream",
          "text": [
            "[10 20 30 40 50]\n",
            "<class 'numpy.ndarray'>\n"
          ],
          "name": "stdout"
        }
      ]
    },
    {
      "cell_type": "code",
      "metadata": {
        "id": "5EjkYUtP5YwT"
      },
      "source": [
        "matrix  = np.array([[1,2,3,4], [5,6,7,8]]) #2x4 Matrix"
      ],
      "execution_count": 4,
      "outputs": []
    },
    {
      "cell_type": "code",
      "metadata": {
        "id": "ozlsuhY15d7V",
        "outputId": "f8d74aeb-3931-48e0-cafe-a91a030a666d",
        "colab": {
          "base_uri": "https://localhost:8080/",
          "height": 52
        }
      },
      "source": [
        "matrix"
      ],
      "execution_count": 5,
      "outputs": [
        {
          "output_type": "execute_result",
          "data": {
            "text/plain": [
              "array([[1, 2, 3, 4],\n",
              "       [5, 6, 7, 8]])"
            ]
          },
          "metadata": {
            "tags": []
          },
          "execution_count": 5
        }
      ]
    },
    {
      "cell_type": "code",
      "metadata": {
        "id": "FQNxTv4m8EVh",
        "outputId": "837bfb43-c829-42c7-f9e1-f96dee4f6194",
        "colab": {
          "base_uri": "https://localhost:8080/",
          "height": 34
        }
      },
      "source": [
        "type(matrix)"
      ],
      "execution_count": 6,
      "outputs": [
        {
          "output_type": "execute_result",
          "data": {
            "text/plain": [
              "numpy.ndarray"
            ]
          },
          "metadata": {
            "tags": []
          },
          "execution_count": 6
        }
      ]
    },
    {
      "cell_type": "markdown",
      "metadata": {
        "id": "qobcNt7sDCRB"
      },
      "source": [
        "### Random function"
      ]
    },
    {
      "cell_type": "code",
      "metadata": {
        "id": "m6VaIGSM8GPy"
      },
      "source": [
        "a = np.random.rand(15)"
      ],
      "execution_count": 7,
      "outputs": []
    },
    {
      "cell_type": "code",
      "metadata": {
        "id": "MSkoJRGZ8Rhy",
        "outputId": "696e789d-e387-441e-cd92-96aeffab2ec0",
        "colab": {
          "base_uri": "https://localhost:8080/",
          "height": 70
        }
      },
      "source": [
        "a"
      ],
      "execution_count": 9,
      "outputs": [
        {
          "output_type": "execute_result",
          "data": {
            "text/plain": [
              "array([0.52114761, 0.91720251, 0.446581  , 0.49783306, 0.64492085,\n",
              "       0.5120422 , 0.22926633, 0.31486662, 0.34629651, 0.20162952,\n",
              "       0.77216334, 0.22250053, 0.43272928, 0.45114473, 0.02426001])"
            ]
          },
          "metadata": {
            "tags": []
          },
          "execution_count": 9
        }
      ]
    },
    {
      "cell_type": "code",
      "metadata": {
        "id": "l_LLLkCf8Leh"
      },
      "source": [
        "b = np.random.rand(5,5) #5x5 Matrix"
      ],
      "execution_count": 8,
      "outputs": []
    },
    {
      "cell_type": "code",
      "metadata": {
        "id": "v8n1PLk-8Oja",
        "outputId": "f56a4d33-de53-4bef-a8bd-d2ec60a746f1",
        "colab": {
          "base_uri": "https://localhost:8080/",
          "height": 105
        }
      },
      "source": [
        "b"
      ],
      "execution_count": 10,
      "outputs": [
        {
          "output_type": "execute_result",
          "data": {
            "text/plain": [
              "array([[0.48766193, 0.09143668, 0.18707595, 0.94825049, 0.66401924],\n",
              "       [0.98272853, 0.96945384, 0.69147698, 0.71678585, 0.3016687 ],\n",
              "       [0.17287919, 0.48594916, 0.67191332, 0.07037422, 0.18747866],\n",
              "       [0.9188557 , 0.22220815, 0.00713147, 0.83623345, 0.99278447],\n",
              "       [0.37839006, 0.89368005, 0.73569514, 0.14968445, 0.88468178]])"
            ]
          },
          "metadata": {
            "tags": []
          },
          "execution_count": 10
        }
      ]
    },
    {
      "cell_type": "markdown",
      "metadata": {
        "id": "cTSgmOQU8ceC"
      },
      "source": [
        "#### randn() \n",
        "Used for normal distribution between 0 and 1"
      ]
    },
    {
      "cell_type": "code",
      "metadata": {
        "id": "fLLIa4js8TLP"
      },
      "source": [
        "c = np.random.randn(15)"
      ],
      "execution_count": 22,
      "outputs": []
    },
    {
      "cell_type": "code",
      "metadata": {
        "id": "aUMLgqRQ85ax",
        "outputId": "d1e4c6f7-40a3-44d7-a9e9-9aa82a223603",
        "colab": {
          "base_uri": "https://localhost:8080/",
          "height": 70
        }
      },
      "source": [
        "c"
      ],
      "execution_count": 23,
      "outputs": [
        {
          "output_type": "execute_result",
          "data": {
            "text/plain": [
              "array([ 1.0241874 ,  0.67557074, -0.68695094, -1.88013262, -0.87680946,\n",
              "       -0.79613974,  1.03327764, -1.25286856, -0.35895366,  0.24761639,\n",
              "        1.46285112,  0.19539294, -0.977333  ,  0.01815218,  0.68359065])"
            ]
          },
          "metadata": {
            "tags": []
          },
          "execution_count": 23
        }
      ]
    },
    {
      "cell_type": "markdown",
      "metadata": {
        "id": "zadxUntTCjDU"
      },
      "source": [
        "Visualization of randn()  "
      ]
    },
    {
      "cell_type": "code",
      "metadata": {
        "id": "eV2a22Wr86Ce",
        "outputId": "059d6b15-b3f6-4f87-9f0a-bd776be061d2",
        "colab": {
          "base_uri": "https://localhost:8080/",
          "height": 282
        }
      },
      "source": [
        "import pandas as pd\n",
        "pd.DataFrame(c).plot( kind = 'density')"
      ],
      "execution_count": 24,
      "outputs": [
        {
          "output_type": "execute_result",
          "data": {
            "text/plain": [
              "<matplotlib.axes._subplots.AxesSubplot at 0x7fc471914400>"
            ]
          },
          "metadata": {
            "tags": []
          },
          "execution_count": 24
        },
        {
          "output_type": "display_data",
          "data": {
            "image/png": "[encoded data removed]",
            "text/plain": [
              "<Figure size 432x288 with 1 Axes>"
            ]
          },
          "metadata": {
            "tags": [],
            "needs_background": "light"
          }
        }
      ]
    },
    {
      "cell_type": "code",
      "metadata": {
        "id": "L0Ly2n6c9BFP",
        "outputId": "81e7e8f5-e614-4d22-8101-11a93cb8cd18",
        "colab": {
          "base_uri": "https://localhost:8080/",
          "height": 34
        }
      },
      "source": [
        "c.mean()"
      ],
      "execution_count": 25,
      "outputs": [
        {
          "output_type": "execute_result",
          "data": {
            "text/plain": [
              "-0.099236595599304"
            ]
          },
          "metadata": {
            "tags": []
          },
          "execution_count": 25
        }
      ]
    },
    {
      "cell_type": "code",
      "metadata": {
        "id": "ivAr04TQ-Nuc",
        "outputId": "4f6b1a82-540f-405a-9bae-5a72a784e75f",
        "colab": {
          "base_uri": "https://localhost:8080/",
          "height": 34
        }
      },
      "source": [
        "c.std()"
      ],
      "execution_count": 26,
      "outputs": [
        {
          "output_type": "execute_result",
          "data": {
            "text/plain": [
              "0.9379229518476669"
            ]
          },
          "metadata": {
            "tags": []
          },
          "execution_count": 26
        }
      ]
    },
    {
      "cell_type": "markdown",
      "metadata": {
        "id": "mDlE7xGa-ubP"
      },
      "source": [
        "#### randint()\n",
        "To generate random integers between the lower and the upper bounds"
      ]
    },
    {
      "cell_type": "code",
      "metadata": {
        "id": "h6S2dabw-tM9"
      },
      "source": [
        "d = np.random.randint(67,90)"
      ],
      "execution_count": 27,
      "outputs": []
    },
    {
      "cell_type": "code",
      "metadata": {
        "id": "h-eox2-y-PKq",
        "outputId": "610da205-8091-49b7-8590-eaf8331582aa",
        "colab": {
          "base_uri": "https://localhost:8080/",
          "height": 34
        }
      },
      "source": [
        "d"
      ],
      "execution_count": 28,
      "outputs": [
        {
          "output_type": "execute_result",
          "data": {
            "text/plain": [
              "72"
            ]
          },
          "metadata": {
            "tags": []
          },
          "execution_count": 28
        }
      ]
    },
    {
      "cell_type": "code",
      "metadata": {
        "id": "gCemnIbL_GZn",
        "outputId": "251d64f8-3599-494e-f27b-70af9fd1e8f9",
        "colab": {
          "base_uri": "https://localhost:8080/",
          "height": 34
        }
      },
      "source": [
        "type(d)"
      ],
      "execution_count": 29,
      "outputs": [
        {
          "output_type": "execute_result",
          "data": {
            "text/plain": [
              "int"
            ]
          },
          "metadata": {
            "tags": []
          },
          "execution_count": 29
        }
      ]
    },
    {
      "cell_type": "markdown",
      "metadata": {
        "id": "riiWiT-K_ZOF"
      },
      "source": [
        "To generate a specific number of integers between the upper and lower bounds"
      ]
    },
    {
      "cell_type": "code",
      "metadata": {
        "id": "-IMzp_YW_QSI"
      },
      "source": [
        "e = np.random.randint(67,90,10)"
      ],
      "execution_count": 30,
      "outputs": []
    },
    {
      "cell_type": "code",
      "metadata": {
        "id": "jaUgXacM_l6C",
        "outputId": "a84254a5-4324-4557-f3a8-82d3487b4356",
        "colab": {
          "base_uri": "https://localhost:8080/",
          "height": 34
        }
      },
      "source": [
        "e"
      ],
      "execution_count": 31,
      "outputs": [
        {
          "output_type": "execute_result",
          "data": {
            "text/plain": [
              "array([76, 69, 82, 89, 73, 87, 71, 83, 75, 71])"
            ]
          },
          "metadata": {
            "tags": []
          },
          "execution_count": 31
        }
      ]
    },
    {
      "cell_type": "markdown",
      "metadata": {
        "id": "URliF1PX_-2-"
      },
      "source": [
        "### Evenly spaced numbers"
      ]
    },
    {
      "cell_type": "markdown",
      "metadata": {
        "id": "8VQYxNMxAIW1"
      },
      "source": [
        "**arange()** - Creates evenly spaced values within the interval  "
      ]
    },
    {
      "cell_type": "code",
      "metadata": {
        "id": "s0b-ntgu_mxM"
      },
      "source": [
        "a = np.arange(1 , 50)"
      ],
      "execution_count": 34,
      "outputs": []
    },
    {
      "cell_type": "code",
      "metadata": {
        "id": "JYcomqVoAHLP",
        "outputId": "37b1a33a-61b4-4f51-a923-56a68d509e71",
        "colab": {
          "base_uri": "https://localhost:8080/",
          "height": 52
        }
      },
      "source": [
        "a"
      ],
      "execution_count": 35,
      "outputs": [
        {
          "output_type": "execute_result",
          "data": {
            "text/plain": [
              "array([ 1,  3,  5,  7,  9, 11, 13, 15, 17, 19, 21, 23, 25, 27, 29, 31, 33,\n",
              "       35, 37, 39, 41, 43, 45, 47, 49])"
            ]
          },
          "metadata": {
            "tags": []
          },
          "execution_count": 35
        }
      ]
    },
    {
      "cell_type": "markdown",
      "metadata": {
        "id": "T2KELpu3AcF4"
      },
      "source": [
        "Creating evenly spaced values within the interval of cerstain steps"
      ]
    },
    {
      "cell_type": "code",
      "metadata": {
        "id": "lmvISdoWAaRB"
      },
      "source": [
        "a1 = np.arange(1 , 50, 2)"
      ],
      "execution_count": 39,
      "outputs": []
    },
    {
      "cell_type": "code",
      "metadata": {
        "id": "kiofv9M8AR7L",
        "outputId": "b4f983e2-0d83-415d-ff51-6ab1fc25f990",
        "colab": {
          "base_uri": "https://localhost:8080/",
          "height": 52
        }
      },
      "source": [
        "a1"
      ],
      "execution_count": 40,
      "outputs": [
        {
          "output_type": "execute_result",
          "data": {
            "text/plain": [
              "array([ 1,  3,  5,  7,  9, 11, 13, 15, 17, 19, 21, 23, 25, 27, 29, 31, 33,\n",
              "       35, 37, 39, 41, 43, 45, 47, 49])"
            ]
          },
          "metadata": {
            "tags": []
          },
          "execution_count": 40
        }
      ]
    },
    {
      "cell_type": "code",
      "metadata": {
        "id": "sCnlKlw6Ak0s",
        "outputId": "8bf75855-69d2-4ee2-aead-d4a5ba1ab340",
        "colab": {
          "base_uri": "https://localhost:8080/",
          "height": 34
        }
      },
      "source": [
        "type(a1)"
      ],
      "execution_count": 41,
      "outputs": [
        {
          "output_type": "execute_result",
          "data": {
            "text/plain": [
              "numpy.ndarray"
            ]
          },
          "metadata": {
            "tags": []
          },
          "execution_count": 41
        }
      ]
    },
    {
      "cell_type": "markdown",
      "metadata": {
        "id": "AMJqkI8LBFo6"
      },
      "source": [
        "### Creating a diagonal matrix "
      ]
    },
    {
      "cell_type": "markdown",
      "metadata": {
        "id": "WsgSmW91BPVV"
      },
      "source": [
        "***eye()*** method creates a diagonal of ones and zeros "
      ]
    },
    {
      "cell_type": "code",
      "metadata": {
        "id": "9JWM-F7oBES3"
      },
      "source": [
        "x = np.eye(5) # 5x5 matrix "
      ],
      "execution_count": 42,
      "outputs": []
    },
    {
      "cell_type": "code",
      "metadata": {
        "id": "-ux93nMtApJq",
        "outputId": "e7126fc6-498b-4222-df40-3ee86db693d1",
        "colab": {
          "base_uri": "https://localhost:8080/",
          "height": 105
        }
      },
      "source": [
        "x"
      ],
      "execution_count": 43,
      "outputs": [
        {
          "output_type": "execute_result",
          "data": {
            "text/plain": [
              "array([[1., 0., 0., 0., 0.],\n",
              "       [0., 1., 0., 0., 0.],\n",
              "       [0., 0., 1., 0., 0.],\n",
              "       [0., 0., 0., 1., 0.],\n",
              "       [0., 0., 0., 0., 1.]])"
            ]
          },
          "metadata": {
            "tags": []
          },
          "execution_count": 43
        }
      ]
    },
    {
      "cell_type": "markdown",
      "metadata": {
        "id": "ZtWq6_dGB0wT"
      },
      "source": [
        "### Array of 1's"
      ]
    },
    {
      "cell_type": "code",
      "metadata": {
        "id": "UqvJyNHYBjr2",
        "outputId": "fbac0610-7525-4655-d7b3-31167245b62c",
        "colab": {
          "base_uri": "https://localhost:8080/",
          "height": 34
        }
      },
      "source": [
        "np.ones(10)"
      ],
      "execution_count": 45,
      "outputs": [
        {
          "output_type": "execute_result",
          "data": {
            "text/plain": [
              "array([1., 1., 1., 1., 1., 1., 1., 1., 1., 1.])"
            ]
          },
          "metadata": {
            "tags": []
          },
          "execution_count": 45
        }
      ]
    },
    {
      "cell_type": "markdown",
      "metadata": {
        "id": "9xwtImy_B847"
      },
      "source": [
        "### Matrix of 1's"
      ]
    },
    {
      "cell_type": "code",
      "metadata": {
        "id": "tLUbICodB6Lk",
        "outputId": "13bbeb06-21f2-40af-d4ef-3e7839a5f462",
        "colab": {
          "base_uri": "https://localhost:8080/",
          "height": 87
        }
      },
      "source": [
        "np.ones((4,5))"
      ],
      "execution_count": 47,
      "outputs": [
        {
          "output_type": "execute_result",
          "data": {
            "text/plain": [
              "array([[1., 1., 1., 1., 1.],\n",
              "       [1., 1., 1., 1., 1.],\n",
              "       [1., 1., 1., 1., 1.],\n",
              "       [1., 1., 1., 1., 1.]])"
            ]
          },
          "metadata": {
            "tags": []
          },
          "execution_count": 47
        }
      ]
    },
    {
      "cell_type": "markdown",
      "metadata": {
        "id": "7sTHP4eWCSJR"
      },
      "source": [
        "### Array of 0's"
      ]
    },
    {
      "cell_type": "code",
      "metadata": {
        "id": "ecKrTQR8CE6e",
        "outputId": "1a3937ec-46ad-4316-fa0b-8d470a7fe7f9",
        "colab": {
          "base_uri": "https://localhost:8080/",
          "height": 34
        }
      },
      "source": [
        "np.zeros(10)"
      ],
      "execution_count": 48,
      "outputs": [
        {
          "output_type": "execute_result",
          "data": {
            "text/plain": [
              "array([0., 0., 0., 0., 0., 0., 0., 0., 0., 0.])"
            ]
          },
          "metadata": {
            "tags": []
          },
          "execution_count": 48
        }
      ]
    },
    {
      "cell_type": "markdown",
      "metadata": {
        "id": "0GB7vD8hDgJu"
      },
      "source": [
        "### Shape, length, type, reshape , max and min values"
      ]
    },
    {
      "cell_type": "code",
      "metadata": {
        "id": "VS1kmtY3CYla",
        "outputId": "b636910e-ce61-4268-e4be-07d2595f9d10",
        "colab": {
          "base_uri": "https://localhost:8080/",
          "height": 52
        }
      },
      "source": [
        "my_list = [10, 20, 30, 40, 50]\n",
        "print(my_list)\n",
        "print(type(my_list))"
      ],
      "execution_count": 49,
      "outputs": [
        {
          "output_type": "stream",
          "text": [
            "[10, 20, 30, 40, 50]\n",
            "<class 'list'>\n"
          ],
          "name": "stdout"
        }
      ]
    },
    {
      "cell_type": "code",
      "metadata": {
        "id": "ZWolfBcZED5J"
      },
      "source": [
        "x = np.array(my_list)"
      ],
      "execution_count": 50,
      "outputs": []
    },
    {
      "cell_type": "code",
      "metadata": {
        "id": "lqy-Ye_fEM1F",
        "outputId": "3663ce05-234f-4d7f-9cbe-ae018bae6206",
        "colab": {
          "base_uri": "https://localhost:8080/",
          "height": 34
        }
      },
      "source": [
        "x"
      ],
      "execution_count": 51,
      "outputs": [
        {
          "output_type": "execute_result",
          "data": {
            "text/plain": [
              "array([10, 20, 30, 40, 50])"
            ]
          },
          "metadata": {
            "tags": []
          },
          "execution_count": 51
        }
      ]
    },
    {
      "cell_type": "markdown",
      "metadata": {
        "id": "Vx4hkOPsEOw7"
      },
      "source": [
        "#### Length of the numpy array"
      ]
    },
    {
      "cell_type": "code",
      "metadata": {
        "id": "EsyeVP7AENtl",
        "outputId": "f644afd3-cfdf-4686-fded-6ece2f83a8f1",
        "colab": {
          "base_uri": "https://localhost:8080/",
          "height": 34
        }
      },
      "source": [
        "len(x)"
      ],
      "execution_count": 52,
      "outputs": [
        {
          "output_type": "execute_result",
          "data": {
            "text/plain": [
              "5"
            ]
          },
          "metadata": {
            "tags": []
          },
          "execution_count": 52
        }
      ]
    },
    {
      "cell_type": "markdown",
      "metadata": {
        "id": "uvhIjum4EXrd"
      },
      "source": [
        "#### Shape of the numpy array"
      ]
    },
    {
      "cell_type": "code",
      "metadata": {
        "id": "HeUpYIevEUWk",
        "outputId": "cd0dd55a-dc90-48cf-df45-0f3663c9f91b",
        "colab": {
          "base_uri": "https://localhost:8080/",
          "height": 34
        }
      },
      "source": [
        "x.shape"
      ],
      "execution_count": 54,
      "outputs": [
        {
          "output_type": "execute_result",
          "data": {
            "text/plain": [
              "(5,)"
            ]
          },
          "metadata": {
            "tags": []
          },
          "execution_count": 54
        }
      ]
    },
    {
      "cell_type": "markdown",
      "metadata": {
        "id": "-23fcGEeEftq"
      },
      "source": [
        "#### Datatype of the numpy array"
      ]
    },
    {
      "cell_type": "code",
      "metadata": {
        "id": "7eU8hJynEbeh",
        "outputId": "66df0df2-45d9-4f85-bac2-c022e08bca09",
        "colab": {
          "base_uri": "https://localhost:8080/",
          "height": 34
        }
      },
      "source": [
        "x.dtype"
      ],
      "execution_count": 55,
      "outputs": [
        {
          "output_type": "execute_result",
          "data": {
            "text/plain": [
              "dtype('int64')"
            ]
          },
          "metadata": {
            "tags": []
          },
          "execution_count": 55
        }
      ]
    },
    {
      "cell_type": "code",
      "metadata": {
        "id": "-XL-MP_iEk6g",
        "outputId": "ddce71a0-b027-44e6-b4f0-ac8c37cf8c90",
        "colab": {
          "base_uri": "https://localhost:8080/",
          "height": 34
        }
      },
      "source": [
        "x[0].dtype"
      ],
      "execution_count": 56,
      "outputs": [
        {
          "output_type": "execute_result",
          "data": {
            "text/plain": [
              "dtype('int64')"
            ]
          },
          "metadata": {
            "tags": []
          },
          "execution_count": 56
        }
      ]
    },
    {
      "cell_type": "markdown",
      "metadata": {
        "id": "il1syOthEplc"
      },
      "source": [
        "#### Reshaping 1-D array into a matrix"
      ]
    },
    {
      "cell_type": "code",
      "metadata": {
        "id": "pZuyEk7GFL2H"
      },
      "source": [
        "x1 = [100, 200, 350, 450, 500, 600, 750, 850]\n"
      ],
      "execution_count": 60,
      "outputs": []
    },
    {
      "cell_type": "code",
      "metadata": {
        "id": "4B6pv7AMEnob"
      },
      "source": [
        "y = np.reshape(x1 , (2,4))"
      ],
      "execution_count": 64,
      "outputs": []
    },
    {
      "cell_type": "code",
      "metadata": {
        "id": "1a078TF5E7Je",
        "outputId": "72806cb4-1648-4e29-d8c5-4089edeccaac",
        "colab": {
          "base_uri": "https://localhost:8080/",
          "height": 52
        }
      },
      "source": [
        "y"
      ],
      "execution_count": 65,
      "outputs": [
        {
          "output_type": "execute_result",
          "data": {
            "text/plain": [
              "array([[100, 200, 350, 450],\n",
              "       [500, 600, 750, 850]])"
            ]
          },
          "metadata": {
            "tags": []
          },
          "execution_count": 65
        }
      ]
    },
    {
      "cell_type": "markdown",
      "metadata": {
        "id": "8ql4MGjyFho1"
      },
      "source": [
        "#### Obtaining the maximum and the minimum value"
      ]
    },
    {
      "cell_type": "code",
      "metadata": {
        "id": "zYWL3gMfFhCA",
        "outputId": "a3411b49-de2c-4c0d-c90f-6caab772efc0",
        "colab": {
          "base_uri": "https://localhost:8080/",
          "height": 34
        }
      },
      "source": [
        "x.max()"
      ],
      "execution_count": 67,
      "outputs": [
        {
          "output_type": "execute_result",
          "data": {
            "text/plain": [
              "50"
            ]
          },
          "metadata": {
            "tags": []
          },
          "execution_count": 67
        }
      ]
    },
    {
      "cell_type": "code",
      "metadata": {
        "id": "ttk-wgUsE9AY",
        "outputId": "2cfc1cc1-3694-4368-cd7e-6cf0e3e4a02d",
        "colab": {
          "base_uri": "https://localhost:8080/",
          "height": 34
        }
      },
      "source": [
        "x.min()"
      ],
      "execution_count": 68,
      "outputs": [
        {
          "output_type": "execute_result",
          "data": {
            "text/plain": [
              "10"
            ]
          },
          "metadata": {
            "tags": []
          },
          "execution_count": 68
        }
      ]
    },
    {
      "cell_type": "markdown",
      "metadata": {
        "id": "YKNEZFJ0F0ep"
      },
      "source": [
        "#### Location of the maximum element "
      ]
    },
    {
      "cell_type": "code",
      "metadata": {
        "id": "rb6rgfHwFzAp"
      },
      "source": [
        "a1 = np.array([2,7,19,89,10,-1])"
      ],
      "execution_count": 76,
      "outputs": []
    },
    {
      "cell_type": "code",
      "metadata": {
        "id": "UT11wDBOGOWy"
      },
      "source": [
        "a2 = np.array([-0.111 , 0.985, -0.009, 0.9, 0.12, 0.45 ])"
      ],
      "execution_count": 77,
      "outputs": []
    },
    {
      "cell_type": "code",
      "metadata": {
        "id": "E1VFfAn3Gdtk",
        "outputId": "1ca6111e-e9a9-4817-b519-c8a5c0de2872",
        "colab": {
          "base_uri": "https://localhost:8080/",
          "height": 34
        }
      },
      "source": [
        "np.argmax(a1) # Max element in array a1"
      ],
      "execution_count": 78,
      "outputs": [
        {
          "output_type": "execute_result",
          "data": {
            "text/plain": [
              "3"
            ]
          },
          "metadata": {
            "tags": []
          },
          "execution_count": 78
        }
      ]
    },
    {
      "cell_type": "code",
      "metadata": {
        "id": "9BNry_IeG8U6",
        "outputId": "ee72486b-7025-4e3c-8fa2-6525cfa80e15",
        "colab": {
          "base_uri": "https://localhost:8080/",
          "height": 34
        }
      },
      "source": [
        "np.argmin(a2) # Min element in array a2"
      ],
      "execution_count": 81,
      "outputs": [
        {
          "output_type": "execute_result",
          "data": {
            "text/plain": [
              "0"
            ]
          },
          "metadata": {
            "tags": []
          },
          "execution_count": 81
        }
      ]
    },
    {
      "cell_type": "code",
      "metadata": {
        "id": "Ve9jn-_jGkYo",
        "outputId": "6cee122e-70ea-4937-f0e0-bc78f63d2c5d",
        "colab": {
          "base_uri": "https://localhost:8080/",
          "height": 34
        }
      },
      "source": [
        "a1[np.argmax(a1)]"
      ],
      "execution_count": 79,
      "outputs": [
        {
          "output_type": "execute_result",
          "data": {
            "text/plain": [
              "89"
            ]
          },
          "metadata": {
            "tags": []
          },
          "execution_count": 79
        }
      ]
    },
    {
      "cell_type": "markdown",
      "metadata": {
        "id": "LDRdCx1OHmKC"
      },
      "source": [
        "### Mathematical Operations"
      ]
    },
    {
      "cell_type": "code",
      "metadata": {
        "id": "iwy1k8KCGti8"
      },
      "source": [
        "x = np.arange(1, 10)"
      ],
      "execution_count": 82,
      "outputs": []
    },
    {
      "cell_type": "code",
      "metadata": {
        "id": "N_IhNqU8HrPB",
        "outputId": "b8431eea-c480-4ed7-d29b-a0fee5cce7ab",
        "colab": {
          "base_uri": "https://localhost:8080/",
          "height": 34
        }
      },
      "source": [
        " x"
      ],
      "execution_count": 83,
      "outputs": [
        {
          "output_type": "execute_result",
          "data": {
            "text/plain": [
              "array([1, 2, 3, 4, 5, 6, 7, 8, 9])"
            ]
          },
          "metadata": {
            "tags": []
          },
          "execution_count": 83
        }
      ]
    },
    {
      "cell_type": "code",
      "metadata": {
        "id": "Gx1taL_BHuXo"
      },
      "source": [
        "y = np.arange(1, 10)"
      ],
      "execution_count": 84,
      "outputs": []
    },
    {
      "cell_type": "code",
      "metadata": {
        "id": "a4tHlobmHy8B",
        "outputId": "194d518c-2daa-4efd-eaf5-353dcc0423a1",
        "colab": {
          "base_uri": "https://localhost:8080/",
          "height": 34
        }
      },
      "source": [
        "y"
      ],
      "execution_count": 85,
      "outputs": [
        {
          "output_type": "execute_result",
          "data": {
            "text/plain": [
              "array([1, 2, 3, 4, 5, 6, 7, 8, 9])"
            ]
          },
          "metadata": {
            "tags": []
          },
          "execution_count": 85
        }
      ]
    },
    {
      "cell_type": "markdown",
      "metadata": {
        "id": "dL5XztbdH2Pi"
      },
      "source": [
        "#### Addition of 2 numpy arrays"
      ]
    },
    {
      "cell_type": "code",
      "metadata": {
        "id": "P-4wADkVH1E8"
      },
      "source": [
        "sum = x + y"
      ],
      "execution_count": 86,
      "outputs": []
    },
    {
      "cell_type": "code",
      "metadata": {
        "id": "kCyetRnYH6S4",
        "outputId": "47ace713-0a44-41a1-a631-caaa996858ad",
        "colab": {
          "base_uri": "https://localhost:8080/",
          "height": 34
        }
      },
      "source": [
        "sum"
      ],
      "execution_count": 87,
      "outputs": [
        {
          "output_type": "execute_result",
          "data": {
            "text/plain": [
              "array([ 2,  4,  6,  8, 10, 12, 14, 16, 18])"
            ]
          },
          "metadata": {
            "tags": []
          },
          "execution_count": 87
        }
      ]
    },
    {
      "cell_type": "markdown",
      "metadata": {
        "id": "xm4foq5UID0g"
      },
      "source": [
        "#### Squaring of numpy array"
      ]
    },
    {
      "cell_type": "code",
      "metadata": {
        "id": "8LFya8gLH68w"
      },
      "source": [
        "sq = x ** 2"
      ],
      "execution_count": 89,
      "outputs": []
    },
    {
      "cell_type": "code",
      "metadata": {
        "id": "EHbuOG5gIYAR",
        "outputId": "84f98e27-5637-4c01-a848-d26c1118dc7a",
        "colab": {
          "base_uri": "https://localhost:8080/",
          "height": 34
        }
      },
      "source": [
        "sq"
      ],
      "execution_count": 90,
      "outputs": [
        {
          "output_type": "execute_result",
          "data": {
            "text/plain": [
              "array([ 1,  4,  9, 16, 25, 36, 49, 64, 81])"
            ]
          },
          "metadata": {
            "tags": []
          },
          "execution_count": 90
        }
      ]
    },
    {
      "cell_type": "markdown",
      "metadata": {
        "id": "IPf9MvCNIPCZ"
      },
      "source": [
        "#### Square-root of a numpy array"
      ]
    },
    {
      "cell_type": "code",
      "metadata": {
        "id": "ROurvsmzIJyH"
      },
      "source": [
        "sqrt = np.sqrt(x)"
      ],
      "execution_count": 91,
      "outputs": []
    },
    {
      "cell_type": "code",
      "metadata": {
        "id": "nuFyv2clIfVQ",
        "outputId": "3e8f202d-5de5-4be0-bf34-641276c31502",
        "colab": {
          "base_uri": "https://localhost:8080/",
          "height": 52
        }
      },
      "source": [
        "sqrt"
      ],
      "execution_count": 92,
      "outputs": [
        {
          "output_type": "execute_result",
          "data": {
            "text/plain": [
              "array([1.        , 1.41421356, 1.73205081, 2.        , 2.23606798,\n",
              "       2.44948974, 2.64575131, 2.82842712, 3.        ])"
            ]
          },
          "metadata": {
            "tags": []
          },
          "execution_count": 92
        }
      ]
    },
    {
      "cell_type": "markdown",
      "metadata": {
        "id": "JeEUE-e6InB-"
      },
      "source": [
        "#### Exponents of a numpy array"
      ]
    },
    {
      "cell_type": "code",
      "metadata": {
        "id": "T4wBG_B3IgXY"
      },
      "source": [
        "exp = np.exp(x)"
      ],
      "execution_count": 93,
      "outputs": []
    },
    {
      "cell_type": "code",
      "metadata": {
        "id": "mC8oFFouItnF",
        "outputId": "e8393154-723d-4b42-f1a9-f3c7d2e0d474",
        "colab": {
          "base_uri": "https://localhost:8080/",
          "height": 70
        }
      },
      "source": [
        "exp"
      ],
      "execution_count": 94,
      "outputs": [
        {
          "output_type": "execute_result",
          "data": {
            "text/plain": [
              "array([2.71828183e+00, 7.38905610e+00, 2.00855369e+01, 5.45981500e+01,\n",
              "       1.48413159e+02, 4.03428793e+02, 1.09663316e+03, 2.98095799e+03,\n",
              "       8.10308393e+03])"
            ]
          },
          "metadata": {
            "tags": []
          },
          "execution_count": 94
        }
      ]
    },
    {
      "cell_type": "code",
      "metadata": {
        "id": "Iln1DFodIue3"
      },
      "source": [
        ""
      ],
      "execution_count": null,
      "outputs": []
    }
  ]
}